{
 "cells": [
  {
   "cell_type": "markdown",
   "id": "01112a65",
   "metadata": {},
   "source": [
    "This project is about exlonatory of data analysis and data science job in india. The company, job title and salary."
   ]
  },
  {
   "cell_type": "markdown",
   "id": "236d9695",
   "metadata": {},
   "source": [
    "Data Science has become the most demanding job of the 21st century. Every organization is looking for candidates with knowledge of data science. In this tutorial, we are giving an introduction to data science, with data science Job roles, tools for data science, components of data science and application"
   ]
  },
  {
   "cell_type": "markdown",
   "id": "f2cf2f73",
   "metadata": {},
   "source": [
    "In statistics, exploratory data analysis is an approach of analyzing data sets to summarize their main characteristics, often using statistical graphics and other data visualization methods. A statistical model can be used or not, but primarily EDA is for seeing what the data can tell us beyond the formal modeling or hypothesis testing task."
   ]
  },
  {
   "cell_type": "code",
   "execution_count": 131,
   "id": "2eb8db2e",
   "metadata": {},
   "outputs": [],
   "source": [
    "import numpy as np\n",
    "import pandas as pd\n",
    "import seaborn as sns\n",
    "import matplotlib.pyplot as plt\n",
    "import os\n",
    "pd.options.mode.chained_assignment = None # default='warn'"
   ]
  },
  {
   "cell_type": "markdown",
   "id": "b399c830",
   "metadata": {
    "papermill": {
     "duration": 0.061252,
     "end_time": "2022-02-17T13:02:58.667742",
     "exception": false,
     "start_time": "2022-02-17T13:02:58.606490",
     "status": "completed"
    },
    "tags": []
   },
   "source": [
    "## Loading dataset"
   ]
  },
  {
   "cell_type": "code",
   "execution_count": 132,
   "id": "083570b2",
   "metadata": {
    "execution": {
     "iopub.execute_input": "2022-02-17T13:02:58.797195Z",
     "iopub.status.busy": "2022-02-17T13:02:58.796422Z",
     "iopub.status.idle": "2022-02-17T13:02:58.849720Z",
     "shell.execute_reply": "2022-02-17T13:02:58.850236Z",
     "shell.execute_reply.started": "2022-02-17T12:50:59.690793Z"
    },
    "papermill": {
     "duration": 0.120185,
     "end_time": "2022-02-17T13:02:58.850412",
     "exception": false,
     "start_time": "2022-02-17T13:02:58.730227",
     "status": "completed"
    },
    "tags": []
   },
   "outputs": [
    {
     "name": "stdout",
     "output_type": "stream",
     "text": [
      "                   Company Name                             Job Title  \\\n",
      "0                      Mu Sigma                        Data Scientist   \n",
      "1                           IBM                        Data Scientist   \n",
      "2     Tata Consultancy Services                        Data Scientist   \n",
      "3              Impact Analytics                        Data Scientist   \n",
      "4                     Accenture                        Data Scientist   \n",
      "...                         ...                                   ...   \n",
      "4339                    TaiyōAI            Machine Learning Scientist   \n",
      "4340    Decimal Point Analytics            Machine Learning Developer   \n",
      "4341                     MyWays            Machine Learning Developer   \n",
      "4342  Market Pulse Technologies  Software Engineer - Machine Learning   \n",
      "4343                    vPhrase             Machine Learning Engineer   \n",
      "\n",
      "      Salaries Reported   Location         Salary  \n",
      "0                 105.0  Bangalore   ₹6,48,573/yr  \n",
      "1                  95.0  Bangalore  ₹11,91,950/yr  \n",
      "2                  66.0  Bangalore   ₹8,36,874/yr  \n",
      "3                  40.0  Bangalore   ₹6,69,578/yr  \n",
      "4                  32.0  Bangalore   ₹9,44,110/yr  \n",
      "...                 ...        ...            ...  \n",
      "4339                1.0     Mumbai      ₹5,180/mo  \n",
      "4340                1.0     Mumbai   ₹7,51,286/yr  \n",
      "4341                1.0     Mumbai   ₹4,10,952/yr  \n",
      "4342                1.0     Mumbai  ₹16,12,324/yr  \n",
      "4343                1.0     Mumbai   ₹9,39,843/yr  \n",
      "\n",
      "[4344 rows x 5 columns]\n"
     ]
    }
   ],
   "source": [
    "salary_data = pd.read_csv('Salary Dataset.csv')\n",
    "print(salary_data)\n",
    "#df = pd.read_csv(\"/kaggle/input/analytics-industry-salaries-2022-india/Salary Dataset.csv\")\n",
    "#print (\"Dataset Shape: \", df.shape, \"\\n--------------------------------\")\n",
    "\n",
    "#df.head()"
   ]
  },
  {
   "cell_type": "markdown",
   "id": "7c2a483f",
   "metadata": {
    "papermill": {
     "duration": 0.063405,
     "end_time": "2022-02-17T13:02:58.975733",
     "exception": false,
     "start_time": "2022-02-17T13:02:58.912328",
     "status": "completed"
    },
    "tags": []
   },
   "source": [
    "## **Data Exploratory Analysis**"
   ]
  },
  {
   "cell_type": "code",
   "execution_count": 133,
   "id": "748154db",
   "metadata": {
    "execution": {
     "iopub.execute_input": "2022-02-17T13:02:59.244349Z",
     "iopub.status.busy": "2022-02-17T13:02:59.243630Z",
     "iopub.status.idle": "2022-02-17T13:02:59.253910Z",
     "shell.execute_reply": "2022-02-17T13:02:59.254589Z",
     "shell.execute_reply.started": "2022-02-17T10:40:43.103891Z"
    },
    "papermill": {
     "duration": 0.078102,
     "end_time": "2022-02-17T13:02:59.254801",
     "exception": false,
     "start_time": "2022-02-17T13:02:59.176699",
     "status": "completed"
    },
    "tags": []
   },
   "outputs": [
    {
     "data": {
      "text/plain": [
       "Index(['company_name', 'job_title', 'sal_reported', 'location', 'salary'], dtype='object')"
      ]
     },
     "execution_count": 133,
     "metadata": {},
     "output_type": "execute_result"
    }
   ],
   "source": [
    "salary_data = salary_data.rename(columns = {'Company Name' : 'company_name', 'Job Title' : 'job_title', \n",
    "                           'Salaries Reported' : 'sal_reported', 'Location' : 'location', \n",
    "                           'Salary' : 'salary'} )\n",
    "salary_data.columns"
   ]
  },
  {
   "cell_type": "code",
   "execution_count": 134,
   "id": "b0c0b1ad",
   "metadata": {
    "execution": {
     "iopub.execute_input": "2022-02-17T13:02:59.397558Z",
     "iopub.status.busy": "2022-02-17T13:02:59.396756Z",
     "iopub.status.idle": "2022-02-17T13:02:59.399854Z",
     "shell.execute_reply": "2022-02-17T13:02:59.400367Z",
     "shell.execute_reply.started": "2022-02-17T10:40:58.267838Z"
    },
    "papermill": {
     "duration": 0.081554,
     "end_time": "2022-02-17T13:02:59.400738",
     "exception": false,
     "start_time": "2022-02-17T13:02:59.319184",
     "status": "completed"
    },
    "tags": []
   },
   "outputs": [
    {
     "data": {
      "text/html": [
       "<div>\n",
       "<style scoped>\n",
       "    .dataframe tbody tr th:only-of-type {\n",
       "        vertical-align: middle;\n",
       "    }\n",
       "\n",
       "    .dataframe tbody tr th {\n",
       "        vertical-align: top;\n",
       "    }\n",
       "\n",
       "    .dataframe thead th {\n",
       "        text-align: right;\n",
       "    }\n",
       "</style>\n",
       "<table border=\"1\" class=\"dataframe\">\n",
       "  <thead>\n",
       "    <tr style=\"text-align: right;\">\n",
       "      <th></th>\n",
       "      <th>company_name</th>\n",
       "      <th>job_title</th>\n",
       "      <th>sal_reported</th>\n",
       "      <th>location</th>\n",
       "      <th>salary</th>\n",
       "    </tr>\n",
       "  </thead>\n",
       "  <tbody>\n",
       "    <tr>\n",
       "      <th>0</th>\n",
       "      <td>Mu Sigma</td>\n",
       "      <td>Data Scientist</td>\n",
       "      <td>105.0</td>\n",
       "      <td>Bangalore</td>\n",
       "      <td>₹6,48,573/yr</td>\n",
       "    </tr>\n",
       "    <tr>\n",
       "      <th>1</th>\n",
       "      <td>IBM</td>\n",
       "      <td>Data Scientist</td>\n",
       "      <td>95.0</td>\n",
       "      <td>Bangalore</td>\n",
       "      <td>₹11,91,950/yr</td>\n",
       "    </tr>\n",
       "    <tr>\n",
       "      <th>2</th>\n",
       "      <td>Tata Consultancy Services</td>\n",
       "      <td>Data Scientist</td>\n",
       "      <td>66.0</td>\n",
       "      <td>Bangalore</td>\n",
       "      <td>₹8,36,874/yr</td>\n",
       "    </tr>\n",
       "    <tr>\n",
       "      <th>3</th>\n",
       "      <td>Impact Analytics</td>\n",
       "      <td>Data Scientist</td>\n",
       "      <td>40.0</td>\n",
       "      <td>Bangalore</td>\n",
       "      <td>₹6,69,578/yr</td>\n",
       "    </tr>\n",
       "    <tr>\n",
       "      <th>4</th>\n",
       "      <td>Accenture</td>\n",
       "      <td>Data Scientist</td>\n",
       "      <td>32.0</td>\n",
       "      <td>Bangalore</td>\n",
       "      <td>₹9,44,110/yr</td>\n",
       "    </tr>\n",
       "  </tbody>\n",
       "</table>\n",
       "</div>"
      ],
      "text/plain": [
       "                company_name       job_title  sal_reported   location  \\\n",
       "0                   Mu Sigma  Data Scientist         105.0  Bangalore   \n",
       "1                        IBM  Data Scientist          95.0  Bangalore   \n",
       "2  Tata Consultancy Services  Data Scientist          66.0  Bangalore   \n",
       "3           Impact Analytics  Data Scientist          40.0  Bangalore   \n",
       "4                  Accenture  Data Scientist          32.0  Bangalore   \n",
       "\n",
       "          salary  \n",
       "0   ₹6,48,573/yr  \n",
       "1  ₹11,91,950/yr  \n",
       "2   ₹8,36,874/yr  \n",
       "3   ₹6,69,578/yr  \n",
       "4   ₹9,44,110/yr  "
      ]
     },
     "execution_count": 134,
     "metadata": {},
     "output_type": "execute_result"
    }
   ],
   "source": [
    "salary_data.head()"
   ]
  },
  {
   "cell_type": "code",
   "execution_count": 136,
   "id": "abf428ad",
   "metadata": {
    "execution": {
     "iopub.execute_input": "2022-02-17T13:02:59.536292Z",
     "iopub.status.busy": "2022-02-17T13:02:59.535432Z",
     "iopub.status.idle": "2022-02-17T13:02:59.559217Z",
     "shell.execute_reply": "2022-02-17T13:02:59.560046Z",
     "shell.execute_reply.started": "2022-02-17T10:41:32.498922Z"
    },
    "papermill": {
     "duration": 0.092888,
     "end_time": "2022-02-17T13:02:59.560333",
     "exception": false,
     "start_time": "2022-02-17T13:02:59.467445",
     "status": "completed"
    },
    "tags": []
   },
   "outputs": [
    {
     "name": "stdout",
     "output_type": "stream",
     "text": [
      "<class 'pandas.core.frame.DataFrame'>\n",
      "RangeIndex: 4344 entries, 0 to 4343\n",
      "Data columns (total 5 columns):\n",
      " #   Column        Non-Null Count  Dtype  \n",
      "---  ------        --------------  -----  \n",
      " 0   company_name  4341 non-null   object \n",
      " 1   job_title     4344 non-null   object \n",
      " 2   sal_reported  4342 non-null   float64\n",
      " 3   location      4344 non-null   object \n",
      " 4   salary        4344 non-null   object \n",
      "dtypes: float64(1), object(4)\n",
      "memory usage: 169.8+ KB\n"
     ]
    }
   ],
   "source": [
    "salary_data.info()"
   ]
  },
  {
   "cell_type": "code",
   "execution_count": 137,
   "id": "22caa677",
   "metadata": {
    "execution": {
     "iopub.execute_input": "2022-02-17T13:02:59.693790Z",
     "iopub.status.busy": "2022-02-17T13:02:59.693019Z",
     "iopub.status.idle": "2022-02-17T13:02:59.710883Z",
     "shell.execute_reply": "2022-02-17T13:02:59.711570Z",
     "shell.execute_reply.started": "2022-02-17T10:46:23.080724Z"
    },
    "papermill": {
     "duration": 0.086238,
     "end_time": "2022-02-17T13:02:59.711778",
     "exception": false,
     "start_time": "2022-02-17T13:02:59.625540",
     "status": "completed"
    },
    "tags": []
   },
   "outputs": [
    {
     "data": {
      "text/html": [
       "<div>\n",
       "<style scoped>\n",
       "    .dataframe tbody tr th:only-of-type {\n",
       "        vertical-align: middle;\n",
       "    }\n",
       "\n",
       "    .dataframe tbody tr th {\n",
       "        vertical-align: top;\n",
       "    }\n",
       "\n",
       "    .dataframe thead th {\n",
       "        text-align: right;\n",
       "    }\n",
       "</style>\n",
       "<table border=\"1\" class=\"dataframe\">\n",
       "  <thead>\n",
       "    <tr style=\"text-align: right;\">\n",
       "      <th></th>\n",
       "      <th>company_name</th>\n",
       "      <th>job_title</th>\n",
       "      <th>sal_reported</th>\n",
       "      <th>location</th>\n",
       "      <th>salary</th>\n",
       "    </tr>\n",
       "  </thead>\n",
       "  <tbody>\n",
       "    <tr>\n",
       "      <th>415</th>\n",
       "      <td>ICICI Bank</td>\n",
       "      <td>Data Scientist</td>\n",
       "      <td>1.0</td>\n",
       "      <td>Bangalore</td>\n",
       "      <td>$2,24,948/yr</td>\n",
       "    </tr>\n",
       "    <tr>\n",
       "      <th>658</th>\n",
       "      <td>Infosys</td>\n",
       "      <td>Data Scientist</td>\n",
       "      <td>1.0</td>\n",
       "      <td>Bangalore</td>\n",
       "      <td>$5,11,613/yr</td>\n",
       "    </tr>\n",
       "    <tr>\n",
       "      <th>1096</th>\n",
       "      <td>Schlumberger</td>\n",
       "      <td>Data Scientist</td>\n",
       "      <td>1.0</td>\n",
       "      <td>Pune</td>\n",
       "      <td>$53,527/yr</td>\n",
       "    </tr>\n",
       "    <tr>\n",
       "      <th>1846</th>\n",
       "      <td>IBM</td>\n",
       "      <td>Data Scientist</td>\n",
       "      <td>1.0</td>\n",
       "      <td>Mumbai</td>\n",
       "      <td>$2,05,476/yr</td>\n",
       "    </tr>\n",
       "    <tr>\n",
       "      <th>1857</th>\n",
       "      <td>ABC</td>\n",
       "      <td>Data Scientist</td>\n",
       "      <td>1.0</td>\n",
       "      <td>Mumbai</td>\n",
       "      <td>$96,739/yr</td>\n",
       "    </tr>\n",
       "  </tbody>\n",
       "</table>\n",
       "</div>"
      ],
      "text/plain": [
       "      company_name       job_title  sal_reported   location        salary\n",
       "415     ICICI Bank  Data Scientist           1.0  Bangalore  $2,24,948/yr\n",
       "658        Infosys  Data Scientist           1.0  Bangalore  $5,11,613/yr\n",
       "1096  Schlumberger  Data Scientist           1.0       Pune    $53,527/yr\n",
       "1846           IBM  Data Scientist           1.0     Mumbai  $2,05,476/yr\n",
       "1857           ABC  Data Scientist           1.0     Mumbai    $96,739/yr"
      ]
     },
     "execution_count": 137,
     "metadata": {},
     "output_type": "execute_result"
    }
   ],
   "source": [
    "salary_data[salary_data['salary'].str.contains('\\$')].head()"
   ]
  },
  {
   "cell_type": "markdown",
   "id": "a9b37abf",
   "metadata": {
    "papermill": {
     "duration": 0.064686,
     "end_time": "2022-02-17T13:02:59.842947",
     "exception": false,
     "start_time": "2022-02-17T13:02:59.778261",
     "status": "completed"
    },
    "tags": []
   },
   "source": [
    "### Let us Clean our data"
   ]
  },
  {
   "cell_type": "code",
   "execution_count": 138,
   "id": "4113a598",
   "metadata": {
    "execution": {
     "iopub.execute_input": "2022-02-17T13:03:00.119056Z",
     "iopub.status.busy": "2022-02-17T13:03:00.118211Z",
     "iopub.status.idle": "2022-02-17T13:03:00.154172Z",
     "shell.execute_reply": "2022-02-17T13:03:00.154694Z",
     "shell.execute_reply.started": "2022-02-17T10:54:21.881518Z"
    },
    "papermill": {
     "duration": 0.112325,
     "end_time": "2022-02-17T13:03:00.154905",
     "exception": false,
     "start_time": "2022-02-17T13:03:00.042580",
     "status": "completed"
    },
    "tags": []
   },
   "outputs": [
    {
     "data": {
      "text/html": [
       "<div>\n",
       "<style scoped>\n",
       "    .dataframe tbody tr th:only-of-type {\n",
       "        vertical-align: middle;\n",
       "    }\n",
       "\n",
       "    .dataframe tbody tr th {\n",
       "        vertical-align: top;\n",
       "    }\n",
       "\n",
       "    .dataframe thead th {\n",
       "        text-align: right;\n",
       "    }\n",
       "</style>\n",
       "<table border=\"1\" class=\"dataframe\">\n",
       "  <thead>\n",
       "    <tr style=\"text-align: right;\">\n",
       "      <th></th>\n",
       "      <th>company_name</th>\n",
       "      <th>job_title</th>\n",
       "      <th>sal_reported</th>\n",
       "      <th>location</th>\n",
       "      <th>salary</th>\n",
       "      <th>currency</th>\n",
       "      <th>duration</th>\n",
       "      <th>sal</th>\n",
       "    </tr>\n",
       "  </thead>\n",
       "  <tbody>\n",
       "    <tr>\n",
       "      <th>0</th>\n",
       "      <td>Mu Sigma</td>\n",
       "      <td>Data Scientist</td>\n",
       "      <td>105.0</td>\n",
       "      <td>Bangalore</td>\n",
       "      <td>₹6,48,573/yr</td>\n",
       "      <td>₹</td>\n",
       "      <td>yr</td>\n",
       "      <td>648573</td>\n",
       "    </tr>\n",
       "    <tr>\n",
       "      <th>1</th>\n",
       "      <td>IBM</td>\n",
       "      <td>Data Scientist</td>\n",
       "      <td>95.0</td>\n",
       "      <td>Bangalore</td>\n",
       "      <td>₹11,91,950/yr</td>\n",
       "      <td>₹</td>\n",
       "      <td>yr</td>\n",
       "      <td>1191950</td>\n",
       "    </tr>\n",
       "    <tr>\n",
       "      <th>2</th>\n",
       "      <td>Tata Consultancy Services</td>\n",
       "      <td>Data Scientist</td>\n",
       "      <td>66.0</td>\n",
       "      <td>Bangalore</td>\n",
       "      <td>₹8,36,874/yr</td>\n",
       "      <td>₹</td>\n",
       "      <td>yr</td>\n",
       "      <td>836874</td>\n",
       "    </tr>\n",
       "    <tr>\n",
       "      <th>3</th>\n",
       "      <td>Impact Analytics</td>\n",
       "      <td>Data Scientist</td>\n",
       "      <td>40.0</td>\n",
       "      <td>Bangalore</td>\n",
       "      <td>₹6,69,578/yr</td>\n",
       "      <td>₹</td>\n",
       "      <td>yr</td>\n",
       "      <td>669578</td>\n",
       "    </tr>\n",
       "    <tr>\n",
       "      <th>4</th>\n",
       "      <td>Accenture</td>\n",
       "      <td>Data Scientist</td>\n",
       "      <td>32.0</td>\n",
       "      <td>Bangalore</td>\n",
       "      <td>₹9,44,110/yr</td>\n",
       "      <td>₹</td>\n",
       "      <td>yr</td>\n",
       "      <td>944110</td>\n",
       "    </tr>\n",
       "  </tbody>\n",
       "</table>\n",
       "</div>"
      ],
      "text/plain": [
       "                company_name       job_title  sal_reported   location  \\\n",
       "0                   Mu Sigma  Data Scientist         105.0  Bangalore   \n",
       "1                        IBM  Data Scientist          95.0  Bangalore   \n",
       "2  Tata Consultancy Services  Data Scientist          66.0  Bangalore   \n",
       "3           Impact Analytics  Data Scientist          40.0  Bangalore   \n",
       "4                  Accenture  Data Scientist          32.0  Bangalore   \n",
       "\n",
       "          salary currency duration      sal  \n",
       "0   ₹6,48,573/yr        ₹       yr   648573  \n",
       "1  ₹11,91,950/yr        ₹       yr  1191950  \n",
       "2   ₹8,36,874/yr        ₹       yr   836874  \n",
       "3   ₹6,69,578/yr        ₹       yr   669578  \n",
       "4   ₹9,44,110/yr        ₹       yr   944110  "
      ]
     },
     "execution_count": 138,
     "metadata": {},
     "output_type": "execute_result"
    }
   ],
   "source": [
    "salary_data['currency'] = salary_data['salary'].str.slice(start=0, stop=1)\n",
    "salary_data['duration'] = salary_data['salary'].str.split(\"/\", expand=True)[1]\n",
    "salary_data['sal'] = salary_data['salary'].str.split(\"/\", expand=True)[0].str.slice(start = 1).str.replace(',', '')\n",
    "salary_data.head()"
   ]
  },
  {
   "cell_type": "code",
   "execution_count": 139,
   "id": "c8697780",
   "metadata": {
    "execution": {
     "iopub.execute_input": "2022-02-17T13:03:00.294755Z",
     "iopub.status.busy": "2022-02-17T13:03:00.293991Z",
     "iopub.status.idle": "2022-02-17T13:03:00.307403Z",
     "shell.execute_reply": "2022-02-17T13:03:00.307999Z",
     "shell.execute_reply.started": "2022-02-17T10:56:29.696698Z"
    },
    "papermill": {
     "duration": 0.086945,
     "end_time": "2022-02-17T13:03:00.308237",
     "exception": false,
     "start_time": "2022-02-17T13:03:00.221292",
     "status": "completed"
    },
    "tags": []
   },
   "outputs": [
    {
     "data": {
      "text/html": [
       "<div>\n",
       "<style scoped>\n",
       "    .dataframe tbody tr th:only-of-type {\n",
       "        vertical-align: middle;\n",
       "    }\n",
       "\n",
       "    .dataframe tbody tr th {\n",
       "        vertical-align: top;\n",
       "    }\n",
       "\n",
       "    .dataframe thead th {\n",
       "        text-align: right;\n",
       "    }\n",
       "</style>\n",
       "<table border=\"1\" class=\"dataframe\">\n",
       "  <thead>\n",
       "    <tr style=\"text-align: right;\">\n",
       "      <th></th>\n",
       "      <th>company_name</th>\n",
       "      <th>job_title</th>\n",
       "      <th>sal_reported</th>\n",
       "      <th>location</th>\n",
       "      <th>salary</th>\n",
       "      <th>currency</th>\n",
       "      <th>duration</th>\n",
       "      <th>sal</th>\n",
       "    </tr>\n",
       "  </thead>\n",
       "  <tbody>\n",
       "    <tr>\n",
       "      <th>2278</th>\n",
       "      <td>md</td>\n",
       "      <td>Data Analyst</td>\n",
       "      <td>1.0</td>\n",
       "      <td>Pune</td>\n",
       "      <td>AFN 1,56,179/yr</td>\n",
       "      <td>A</td>\n",
       "      <td>yr</td>\n",
       "      <td>FN 156179</td>\n",
       "    </tr>\n",
       "  </tbody>\n",
       "</table>\n",
       "</div>"
      ],
      "text/plain": [
       "     company_name     job_title  sal_reported location           salary  \\\n",
       "2278           md  Data Analyst           1.0     Pune  AFN 1,56,179/yr   \n",
       "\n",
       "     currency duration        sal  \n",
       "2278        A       yr  FN 156179  "
      ]
     },
     "execution_count": 139,
     "metadata": {},
     "output_type": "execute_result"
    }
   ],
   "source": [
    "salary_data[salary_data[\"currency\"] == 'A']"
   ]
  },
  {
   "cell_type": "code",
   "execution_count": 140,
   "id": "27366159",
   "metadata": {
    "execution": {
     "iopub.execute_input": "2022-02-17T13:03:00.586238Z",
     "iopub.status.busy": "2022-02-17T13:03:00.585449Z",
     "iopub.status.idle": "2022-02-17T13:03:00.610531Z",
     "shell.execute_reply": "2022-02-17T13:03:00.611104Z",
     "shell.execute_reply.started": "2022-02-17T11:07:08.184391Z"
    },
    "papermill": {
     "duration": 0.098848,
     "end_time": "2022-02-17T13:03:00.611332",
     "exception": false,
     "start_time": "2022-02-17T13:03:00.512484",
     "status": "completed"
    },
    "tags": []
   },
   "outputs": [
    {
     "data": {
      "text/html": [
       "<div>\n",
       "<style scoped>\n",
       "    .dataframe tbody tr th:only-of-type {\n",
       "        vertical-align: middle;\n",
       "    }\n",
       "\n",
       "    .dataframe tbody tr th {\n",
       "        vertical-align: top;\n",
       "    }\n",
       "\n",
       "    .dataframe thead th {\n",
       "        text-align: right;\n",
       "    }\n",
       "</style>\n",
       "<table border=\"1\" class=\"dataframe\">\n",
       "  <thead>\n",
       "    <tr style=\"text-align: right;\">\n",
       "      <th></th>\n",
       "      <th>company_name</th>\n",
       "      <th>job_title</th>\n",
       "      <th>sal_reported</th>\n",
       "      <th>location</th>\n",
       "      <th>salary</th>\n",
       "      <th>currency</th>\n",
       "      <th>duration</th>\n",
       "      <th>sal</th>\n",
       "    </tr>\n",
       "  </thead>\n",
       "  <tbody>\n",
       "    <tr>\n",
       "      <th>2278</th>\n",
       "      <td>md</td>\n",
       "      <td>Data Analyst</td>\n",
       "      <td>1.0</td>\n",
       "      <td>Pune</td>\n",
       "      <td>AFN 1,56,179/yr</td>\n",
       "      <td>AFN</td>\n",
       "      <td>yr</td>\n",
       "      <td>156179</td>\n",
       "    </tr>\n",
       "  </tbody>\n",
       "</table>\n",
       "</div>"
      ],
      "text/plain": [
       "     company_name     job_title  sal_reported location           salary  \\\n",
       "2278           md  Data Analyst           1.0     Pune  AFN 1,56,179/yr   \n",
       "\n",
       "     currency duration     sal  \n",
       "2278      AFN       yr  156179  "
      ]
     },
     "execution_count": 140,
     "metadata": {},
     "output_type": "execute_result"
    }
   ],
   "source": [
    "salary_data['currency'] = salary_data['currency'].str.replace('A', 'AFN')\n",
    "salary_data['sal'] = salary_data['sal'].str.replace('FN', '').str.strip()\n",
    "salary_data[salary_data[\"currency\"].str.contains('A')]"
   ]
  },
  {
   "cell_type": "code",
   "execution_count": 141,
   "id": "ad75ba9d",
   "metadata": {
    "execution": {
     "iopub.execute_input": "2022-02-17T13:03:00.751027Z",
     "iopub.status.busy": "2022-02-17T13:03:00.750233Z",
     "iopub.status.idle": "2022-02-17T13:03:00.766315Z",
     "shell.execute_reply": "2022-02-17T13:03:00.765566Z",
     "shell.execute_reply.started": "2022-02-17T11:07:32.701100Z"
    },
    "papermill": {
     "duration": 0.087187,
     "end_time": "2022-02-17T13:03:00.766516",
     "exception": false,
     "start_time": "2022-02-17T13:03:00.679329",
     "status": "completed"
    },
    "tags": []
   },
   "outputs": [
    {
     "name": "stdout",
     "output_type": "stream",
     "text": [
      "<class 'pandas.core.frame.DataFrame'>\n",
      "RangeIndex: 4344 entries, 0 to 4343\n",
      "Data columns (total 8 columns):\n",
      " #   Column        Non-Null Count  Dtype  \n",
      "---  ------        --------------  -----  \n",
      " 0   company_name  4341 non-null   object \n",
      " 1   job_title     4344 non-null   object \n",
      " 2   sal_reported  4342 non-null   float64\n",
      " 3   location      4344 non-null   object \n",
      " 4   salary        4344 non-null   object \n",
      " 5   currency      4344 non-null   object \n",
      " 6   duration      4344 non-null   object \n",
      " 7   sal           4344 non-null   object \n",
      "dtypes: float64(1), object(7)\n",
      "memory usage: 271.6+ KB\n"
     ]
    }
   ],
   "source": [
    "salary_data.info()"
   ]
  },
  {
   "cell_type": "code",
   "execution_count": 142,
   "id": "dcafd1a7",
   "metadata": {
    "execution": {
     "iopub.execute_input": "2022-02-17T13:03:00.906326Z",
     "iopub.status.busy": "2022-02-17T13:03:00.905532Z",
     "iopub.status.idle": "2022-02-17T13:03:00.922673Z",
     "shell.execute_reply": "2022-02-17T13:03:00.923199Z",
     "shell.execute_reply.started": "2022-02-17T11:07:38.062661Z"
    },
    "papermill": {
     "duration": 0.088755,
     "end_time": "2022-02-17T13:03:00.923437",
     "exception": false,
     "start_time": "2022-02-17T13:03:00.834682",
     "status": "completed"
    },
    "tags": []
   },
   "outputs": [
    {
     "name": "stdout",
     "output_type": "stream",
     "text": [
      "<class 'pandas.core.frame.DataFrame'>\n",
      "RangeIndex: 4344 entries, 0 to 4343\n",
      "Data columns (total 8 columns):\n",
      " #   Column        Non-Null Count  Dtype  \n",
      "---  ------        --------------  -----  \n",
      " 0   company_name  4341 non-null   object \n",
      " 1   job_title     4344 non-null   object \n",
      " 2   sal_reported  4342 non-null   float64\n",
      " 3   location      4344 non-null   object \n",
      " 4   salary        4344 non-null   object \n",
      " 5   currency      4344 non-null   object \n",
      " 6   duration      4344 non-null   object \n",
      " 7   sal           4344 non-null   float64\n",
      "dtypes: float64(2), object(6)\n",
      "memory usage: 271.6+ KB\n"
     ]
    }
   ],
   "source": [
    "salary_data['sal'] = salary_data['sal'].astype('float64')\n",
    "salary_data.info()"
   ]
  },
  {
   "cell_type": "code",
   "execution_count": 143,
   "id": "c87dc7b8",
   "metadata": {
    "execution": {
     "iopub.execute_input": "2022-02-17T13:03:01.072080Z",
     "iopub.status.busy": "2022-02-17T13:03:01.071290Z",
     "iopub.status.idle": "2022-02-17T13:03:01.077387Z",
     "shell.execute_reply": "2022-02-17T13:03:01.077901Z",
     "shell.execute_reply.started": "2022-02-17T11:56:25.556082Z"
    },
    "papermill": {
     "duration": 0.084523,
     "end_time": "2022-02-17T13:03:01.078132",
     "exception": false,
     "start_time": "2022-02-17T13:03:00.993609",
     "status": "completed"
    },
    "tags": []
   },
   "outputs": [
    {
     "data": {
      "text/plain": [
       "company_name    3\n",
       "job_title       0\n",
       "sal_reported    2\n",
       "location        0\n",
       "salary          0\n",
       "currency        0\n",
       "duration        0\n",
       "sal             0\n",
       "dtype: int64"
      ]
     },
     "execution_count": 143,
     "metadata": {},
     "output_type": "execute_result"
    }
   ],
   "source": [
    "salary_data.isna().sum()"
   ]
  },
  {
   "cell_type": "markdown",
   "id": "18d6e462",
   "metadata": {
    "papermill": {
     "duration": 0.070572,
     "end_time": "2022-02-17T13:03:01.218989",
     "exception": false,
     "start_time": "2022-02-17T13:03:01.148417",
     "status": "completed"
    },
    "tags": []
   },
   "source": [
    "### Let us convert all currencies to USD"
   ]
  },
  {
   "cell_type": "code",
   "execution_count": 144,
   "id": "8b8dffc3",
   "metadata": {
    "execution": {
     "iopub.execute_input": "2022-02-17T13:03:01.359180Z",
     "iopub.status.busy": "2022-02-17T13:03:01.358511Z",
     "iopub.status.idle": "2022-02-17T13:03:01.364703Z",
     "shell.execute_reply": "2022-02-17T13:03:01.365255Z",
     "shell.execute_reply.started": "2022-02-17T12:54:07.394637Z"
    },
    "papermill": {
     "duration": 0.07815,
     "end_time": "2022-02-17T13:03:01.365471",
     "exception": false,
     "start_time": "2022-02-17T13:03:01.287321",
     "status": "completed"
    },
    "tags": []
   },
   "outputs": [
    {
     "data": {
      "text/plain": [
       "{'₹': 0.013, '$': 1, '£': 1.36, 'AFN': 0.011}"
      ]
     },
     "execution_count": 144,
     "metadata": {},
     "output_type": "execute_result"
    }
   ],
   "source": [
    "conver_cur = {'₹':0.013, '$':1, '£':1.36, 'AFN':0.011}\n",
    "conver_cur"
   ]
  },
  {
   "cell_type": "code",
   "execution_count": 145,
   "id": "3c36c0fc",
   "metadata": {
    "execution": {
     "iopub.execute_input": "2022-02-17T13:03:01.507313Z",
     "iopub.status.busy": "2022-02-17T13:03:01.506463Z",
     "iopub.status.idle": "2022-02-17T13:03:02.504409Z",
     "shell.execute_reply": "2022-02-17T13:03:02.504897Z",
     "shell.execute_reply.started": "2022-02-17T11:13:00.758133Z"
    },
    "papermill": {
     "duration": 1.070292,
     "end_time": "2022-02-17T13:03:02.505102",
     "exception": false,
     "start_time": "2022-02-17T13:03:01.434810",
     "status": "completed"
    },
    "tags": []
   },
   "outputs": [
    {
     "data": {
      "text/html": [
       "<div>\n",
       "<style scoped>\n",
       "    .dataframe tbody tr th:only-of-type {\n",
       "        vertical-align: middle;\n",
       "    }\n",
       "\n",
       "    .dataframe tbody tr th {\n",
       "        vertical-align: top;\n",
       "    }\n",
       "\n",
       "    .dataframe thead th {\n",
       "        text-align: right;\n",
       "    }\n",
       "</style>\n",
       "<table border=\"1\" class=\"dataframe\">\n",
       "  <thead>\n",
       "    <tr style=\"text-align: right;\">\n",
       "      <th></th>\n",
       "      <th>company_name</th>\n",
       "      <th>job_title</th>\n",
       "      <th>sal_reported</th>\n",
       "      <th>location</th>\n",
       "      <th>salary</th>\n",
       "      <th>currency</th>\n",
       "      <th>duration</th>\n",
       "      <th>sal</th>\n",
       "      <th>salary_usd</th>\n",
       "    </tr>\n",
       "  </thead>\n",
       "  <tbody>\n",
       "    <tr>\n",
       "      <th>0</th>\n",
       "      <td>Mu Sigma</td>\n",
       "      <td>Data Scientist</td>\n",
       "      <td>105.0</td>\n",
       "      <td>Bangalore</td>\n",
       "      <td>₹6,48,573/yr</td>\n",
       "      <td>₹</td>\n",
       "      <td>yr</td>\n",
       "      <td>648573.0</td>\n",
       "      <td>8431</td>\n",
       "    </tr>\n",
       "    <tr>\n",
       "      <th>1</th>\n",
       "      <td>IBM</td>\n",
       "      <td>Data Scientist</td>\n",
       "      <td>95.0</td>\n",
       "      <td>Bangalore</td>\n",
       "      <td>₹11,91,950/yr</td>\n",
       "      <td>₹</td>\n",
       "      <td>yr</td>\n",
       "      <td>1191950.0</td>\n",
       "      <td>15495</td>\n",
       "    </tr>\n",
       "    <tr>\n",
       "      <th>2</th>\n",
       "      <td>Tata Consultancy Services</td>\n",
       "      <td>Data Scientist</td>\n",
       "      <td>66.0</td>\n",
       "      <td>Bangalore</td>\n",
       "      <td>₹8,36,874/yr</td>\n",
       "      <td>₹</td>\n",
       "      <td>yr</td>\n",
       "      <td>836874.0</td>\n",
       "      <td>10879</td>\n",
       "    </tr>\n",
       "    <tr>\n",
       "      <th>3</th>\n",
       "      <td>Impact Analytics</td>\n",
       "      <td>Data Scientist</td>\n",
       "      <td>40.0</td>\n",
       "      <td>Bangalore</td>\n",
       "      <td>₹6,69,578/yr</td>\n",
       "      <td>₹</td>\n",
       "      <td>yr</td>\n",
       "      <td>669578.0</td>\n",
       "      <td>8704</td>\n",
       "    </tr>\n",
       "    <tr>\n",
       "      <th>4</th>\n",
       "      <td>Accenture</td>\n",
       "      <td>Data Scientist</td>\n",
       "      <td>32.0</td>\n",
       "      <td>Bangalore</td>\n",
       "      <td>₹9,44,110/yr</td>\n",
       "      <td>₹</td>\n",
       "      <td>yr</td>\n",
       "      <td>944110.0</td>\n",
       "      <td>12273</td>\n",
       "    </tr>\n",
       "    <tr>\n",
       "      <th>...</th>\n",
       "      <td>...</td>\n",
       "      <td>...</td>\n",
       "      <td>...</td>\n",
       "      <td>...</td>\n",
       "      <td>...</td>\n",
       "      <td>...</td>\n",
       "      <td>...</td>\n",
       "      <td>...</td>\n",
       "      <td>...</td>\n",
       "    </tr>\n",
       "    <tr>\n",
       "      <th>4339</th>\n",
       "      <td>TaiyōAI</td>\n",
       "      <td>Machine Learning Scientist</td>\n",
       "      <td>1.0</td>\n",
       "      <td>Mumbai</td>\n",
       "      <td>₹5,180/mo</td>\n",
       "      <td>₹</td>\n",
       "      <td>mo</td>\n",
       "      <td>5180.0</td>\n",
       "      <td>67</td>\n",
       "    </tr>\n",
       "    <tr>\n",
       "      <th>4340</th>\n",
       "      <td>Decimal Point Analytics</td>\n",
       "      <td>Machine Learning Developer</td>\n",
       "      <td>1.0</td>\n",
       "      <td>Mumbai</td>\n",
       "      <td>₹7,51,286/yr</td>\n",
       "      <td>₹</td>\n",
       "      <td>yr</td>\n",
       "      <td>751286.0</td>\n",
       "      <td>9766</td>\n",
       "    </tr>\n",
       "    <tr>\n",
       "      <th>4341</th>\n",
       "      <td>MyWays</td>\n",
       "      <td>Machine Learning Developer</td>\n",
       "      <td>1.0</td>\n",
       "      <td>Mumbai</td>\n",
       "      <td>₹4,10,952/yr</td>\n",
       "      <td>₹</td>\n",
       "      <td>yr</td>\n",
       "      <td>410952.0</td>\n",
       "      <td>5342</td>\n",
       "    </tr>\n",
       "    <tr>\n",
       "      <th>4342</th>\n",
       "      <td>Market Pulse Technologies</td>\n",
       "      <td>Software Engineer - Machine Learning</td>\n",
       "      <td>1.0</td>\n",
       "      <td>Mumbai</td>\n",
       "      <td>₹16,12,324/yr</td>\n",
       "      <td>₹</td>\n",
       "      <td>yr</td>\n",
       "      <td>1612324.0</td>\n",
       "      <td>20960</td>\n",
       "    </tr>\n",
       "    <tr>\n",
       "      <th>4343</th>\n",
       "      <td>vPhrase</td>\n",
       "      <td>Machine Learning Engineer</td>\n",
       "      <td>1.0</td>\n",
       "      <td>Mumbai</td>\n",
       "      <td>₹9,39,843/yr</td>\n",
       "      <td>₹</td>\n",
       "      <td>yr</td>\n",
       "      <td>939843.0</td>\n",
       "      <td>12217</td>\n",
       "    </tr>\n",
       "  </tbody>\n",
       "</table>\n",
       "<p>4344 rows × 9 columns</p>\n",
       "</div>"
      ],
      "text/plain": [
       "                   company_name                             job_title  \\\n",
       "0                      Mu Sigma                        Data Scientist   \n",
       "1                           IBM                        Data Scientist   \n",
       "2     Tata Consultancy Services                        Data Scientist   \n",
       "3              Impact Analytics                        Data Scientist   \n",
       "4                     Accenture                        Data Scientist   \n",
       "...                         ...                                   ...   \n",
       "4339                    TaiyōAI            Machine Learning Scientist   \n",
       "4340    Decimal Point Analytics            Machine Learning Developer   \n",
       "4341                     MyWays            Machine Learning Developer   \n",
       "4342  Market Pulse Technologies  Software Engineer - Machine Learning   \n",
       "4343                    vPhrase             Machine Learning Engineer   \n",
       "\n",
       "      sal_reported   location         salary currency duration        sal  \\\n",
       "0            105.0  Bangalore   ₹6,48,573/yr        ₹       yr   648573.0   \n",
       "1             95.0  Bangalore  ₹11,91,950/yr        ₹       yr  1191950.0   \n",
       "2             66.0  Bangalore   ₹8,36,874/yr        ₹       yr   836874.0   \n",
       "3             40.0  Bangalore   ₹6,69,578/yr        ₹       yr   669578.0   \n",
       "4             32.0  Bangalore   ₹9,44,110/yr        ₹       yr   944110.0   \n",
       "...            ...        ...            ...      ...      ...        ...   \n",
       "4339           1.0     Mumbai      ₹5,180/mo        ₹       mo     5180.0   \n",
       "4340           1.0     Mumbai   ₹7,51,286/yr        ₹       yr   751286.0   \n",
       "4341           1.0     Mumbai   ₹4,10,952/yr        ₹       yr   410952.0   \n",
       "4342           1.0     Mumbai  ₹16,12,324/yr        ₹       yr  1612324.0   \n",
       "4343           1.0     Mumbai   ₹9,39,843/yr        ₹       yr   939843.0   \n",
       "\n",
       "      salary_usd  \n",
       "0           8431  \n",
       "1          15495  \n",
       "2          10879  \n",
       "3           8704  \n",
       "4          12273  \n",
       "...          ...  \n",
       "4339          67  \n",
       "4340        9766  \n",
       "4341        5342  \n",
       "4342       20960  \n",
       "4343       12217  \n",
       "\n",
       "[4344 rows x 9 columns]"
      ]
     },
     "execution_count": 145,
     "metadata": {},
     "output_type": "execute_result"
    }
   ],
   "source": [
    "salary_data['salary_usd'] = 0 \n",
    "\n",
    "for key, value in conver_cur.items():\n",
    "    for x, xRow in salary_data.iterrows():\n",
    "        if(key in xRow['currency'] ):\n",
    "            salVal = xRow['sal']\n",
    "            salVal = round(int(salVal) * value, 2)\n",
    "            #print(x, \" --- \", xRow['sal'], \" ---> \",salVal, \" --->\", key)\n",
    "            salary_data.at[x, \"salary_usd\"] = salVal\n",
    "salary_data"
   ]
  },
  {
   "cell_type": "markdown",
   "id": "c49b100b",
   "metadata": {},
   "source": [
    "#### Converting all salary mode to per year"
   ]
  },
  {
   "cell_type": "code",
   "execution_count": 146,
   "id": "f0a642fd",
   "metadata": {
    "execution": {
     "iopub.execute_input": "2022-02-17T13:03:02.649149Z",
     "iopub.status.busy": "2022-02-17T13:03:02.648435Z",
     "iopub.status.idle": "2022-02-17T13:03:02.652409Z",
     "shell.execute_reply": "2022-02-17T13:03:02.652994Z",
     "shell.execute_reply.started": "2022-02-17T11:16:38.013892Z"
    },
    "papermill": {
     "duration": 0.079333,
     "end_time": "2022-02-17T13:03:02.653173",
     "exception": false,
     "start_time": "2022-02-17T13:03:02.573840",
     "status": "completed"
    },
    "tags": []
   },
   "outputs": [
    {
     "data": {
      "text/plain": [
       "array(['yr', 'mo', 'hr'], dtype=object)"
      ]
     },
     "execution_count": 146,
     "metadata": {},
     "output_type": "execute_result"
    }
   ],
   "source": [
    "salary_data['duration'].unique()"
   ]
  },
  {
   "cell_type": "code",
   "execution_count": 147,
   "id": "abdd0f84",
   "metadata": {
    "execution": {
     "iopub.execute_input": "2022-02-17T13:03:02.934334Z",
     "iopub.status.busy": "2022-02-17T13:03:02.933613Z",
     "iopub.status.idle": "2022-02-17T13:03:02.939318Z",
     "shell.execute_reply": "2022-02-17T13:03:02.939942Z",
     "shell.execute_reply.started": "2022-02-17T11:22:01.495610Z"
    },
    "papermill": {
     "duration": 0.079139,
     "end_time": "2022-02-17T13:03:02.940122",
     "exception": false,
     "start_time": "2022-02-17T13:03:02.860983",
     "status": "completed"
    },
    "tags": []
   },
   "outputs": [
    {
     "data": {
      "text/plain": [
       "{'yr': 1, 'mo': 12, 'hr': 2064}"
      ]
     },
     "execution_count": 147,
     "metadata": {},
     "output_type": "execute_result"
    }
   ],
   "source": [
    "convert_to_year = {'yr':1, 'mo':12, 'hr':2064}\n",
    "convert_to_year"
   ]
  },
  {
   "cell_type": "code",
   "execution_count": 148,
   "id": "1555370f",
   "metadata": {
    "execution": {
     "iopub.execute_input": "2022-02-17T13:03:03.083302Z",
     "iopub.status.busy": "2022-02-17T13:03:03.082586Z",
     "iopub.status.idle": "2022-02-17T13:03:03.097373Z",
     "shell.execute_reply": "2022-02-17T13:03:03.098007Z",
     "shell.execute_reply.started": "2022-02-17T11:23:26.320855Z"
    },
    "papermill": {
     "duration": 0.088111,
     "end_time": "2022-02-17T13:03:03.098190",
     "exception": false,
     "start_time": "2022-02-17T13:03:03.010079",
     "status": "completed"
    },
    "tags": []
   },
   "outputs": [
    {
     "data": {
      "text/html": [
       "<div>\n",
       "<style scoped>\n",
       "    .dataframe tbody tr th:only-of-type {\n",
       "        vertical-align: middle;\n",
       "    }\n",
       "\n",
       "    .dataframe tbody tr th {\n",
       "        vertical-align: top;\n",
       "    }\n",
       "\n",
       "    .dataframe thead th {\n",
       "        text-align: right;\n",
       "    }\n",
       "</style>\n",
       "<table border=\"1\" class=\"dataframe\">\n",
       "  <thead>\n",
       "    <tr style=\"text-align: right;\">\n",
       "      <th></th>\n",
       "      <th>company_name</th>\n",
       "      <th>job_title</th>\n",
       "      <th>sal_reported</th>\n",
       "      <th>location</th>\n",
       "      <th>salary</th>\n",
       "      <th>currency</th>\n",
       "      <th>duration</th>\n",
       "      <th>sal</th>\n",
       "      <th>salary_usd</th>\n",
       "    </tr>\n",
       "  </thead>\n",
       "  <tbody>\n",
       "    <tr>\n",
       "      <th>3876</th>\n",
       "      <td>Turing.com</td>\n",
       "      <td>Machine Learning Engineer</td>\n",
       "      <td>1.0</td>\n",
       "      <td>Bangalore</td>\n",
       "      <td>$62/hr</td>\n",
       "      <td>$</td>\n",
       "      <td>hr</td>\n",
       "      <td>62.0</td>\n",
       "      <td>62</td>\n",
       "    </tr>\n",
       "  </tbody>\n",
       "</table>\n",
       "</div>"
      ],
      "text/plain": [
       "     company_name                  job_title  sal_reported   location  salary  \\\n",
       "3876   Turing.com  Machine Learning Engineer           1.0  Bangalore  $62/hr   \n",
       "\n",
       "     currency duration   sal  salary_usd  \n",
       "3876        $       hr  62.0          62  "
      ]
     },
     "execution_count": 148,
     "metadata": {},
     "output_type": "execute_result"
    }
   ],
   "source": [
    "salary_data[salary_data.index == 3876]"
   ]
  },
  {
   "cell_type": "code",
   "execution_count": 150,
   "id": "3f6dbd08",
   "metadata": {
    "execution": {
     "iopub.execute_input": "2022-02-17T13:03:03.390645Z",
     "iopub.status.busy": "2022-02-17T13:03:03.389860Z",
     "iopub.status.idle": "2022-02-17T13:03:03.652211Z",
     "shell.execute_reply": "2022-02-17T13:03:03.652767Z",
     "shell.execute_reply.started": "2022-02-17T11:50:50.181475Z"
    },
    "papermill": {
     "duration": 0.338617,
     "end_time": "2022-02-17T13:03:03.652989",
     "exception": false,
     "start_time": "2022-02-17T13:03:03.314372",
     "status": "completed"
    },
    "tags": []
   },
   "outputs": [
    {
     "data": {
      "text/html": [
       "<div>\n",
       "<style scoped>\n",
       "    .dataframe tbody tr th:only-of-type {\n",
       "        vertical-align: middle;\n",
       "    }\n",
       "\n",
       "    .dataframe tbody tr th {\n",
       "        vertical-align: top;\n",
       "    }\n",
       "\n",
       "    .dataframe thead th {\n",
       "        text-align: right;\n",
       "    }\n",
       "</style>\n",
       "<table border=\"1\" class=\"dataframe\">\n",
       "  <thead>\n",
       "    <tr style=\"text-align: right;\">\n",
       "      <th></th>\n",
       "      <th>company_name</th>\n",
       "      <th>job_title</th>\n",
       "      <th>sal_reported</th>\n",
       "      <th>location</th>\n",
       "      <th>salary</th>\n",
       "      <th>currency</th>\n",
       "      <th>duration</th>\n",
       "      <th>sal</th>\n",
       "      <th>salary_usd</th>\n",
       "      <th>$/yr</th>\n",
       "      <th>salary_usd_yearly</th>\n",
       "    </tr>\n",
       "  </thead>\n",
       "  <tbody>\n",
       "    <tr>\n",
       "      <th>0</th>\n",
       "      <td>Mu Sigma</td>\n",
       "      <td>Data Scientist</td>\n",
       "      <td>105.0</td>\n",
       "      <td>Bangalore</td>\n",
       "      <td>₹6,48,573/yr</td>\n",
       "      <td>₹</td>\n",
       "      <td>yr</td>\n",
       "      <td>648573.0</td>\n",
       "      <td>8431</td>\n",
       "      <td>0</td>\n",
       "      <td>0</td>\n",
       "    </tr>\n",
       "    <tr>\n",
       "      <th>1</th>\n",
       "      <td>IBM</td>\n",
       "      <td>Data Scientist</td>\n",
       "      <td>95.0</td>\n",
       "      <td>Bangalore</td>\n",
       "      <td>₹11,91,950/yr</td>\n",
       "      <td>₹</td>\n",
       "      <td>yr</td>\n",
       "      <td>1191950.0</td>\n",
       "      <td>15495</td>\n",
       "      <td>0</td>\n",
       "      <td>0</td>\n",
       "    </tr>\n",
       "    <tr>\n",
       "      <th>2</th>\n",
       "      <td>Tata Consultancy Services</td>\n",
       "      <td>Data Scientist</td>\n",
       "      <td>66.0</td>\n",
       "      <td>Bangalore</td>\n",
       "      <td>₹8,36,874/yr</td>\n",
       "      <td>₹</td>\n",
       "      <td>yr</td>\n",
       "      <td>836874.0</td>\n",
       "      <td>10879</td>\n",
       "      <td>0</td>\n",
       "      <td>0</td>\n",
       "    </tr>\n",
       "    <tr>\n",
       "      <th>3</th>\n",
       "      <td>Impact Analytics</td>\n",
       "      <td>Data Scientist</td>\n",
       "      <td>40.0</td>\n",
       "      <td>Bangalore</td>\n",
       "      <td>₹6,69,578/yr</td>\n",
       "      <td>₹</td>\n",
       "      <td>yr</td>\n",
       "      <td>669578.0</td>\n",
       "      <td>8704</td>\n",
       "      <td>0</td>\n",
       "      <td>0</td>\n",
       "    </tr>\n",
       "    <tr>\n",
       "      <th>4</th>\n",
       "      <td>Accenture</td>\n",
       "      <td>Data Scientist</td>\n",
       "      <td>32.0</td>\n",
       "      <td>Bangalore</td>\n",
       "      <td>₹9,44,110/yr</td>\n",
       "      <td>₹</td>\n",
       "      <td>yr</td>\n",
       "      <td>944110.0</td>\n",
       "      <td>12273</td>\n",
       "      <td>0</td>\n",
       "      <td>0</td>\n",
       "    </tr>\n",
       "  </tbody>\n",
       "</table>\n",
       "</div>"
      ],
      "text/plain": [
       "                company_name       job_title  sal_reported   location  \\\n",
       "0                   Mu Sigma  Data Scientist         105.0  Bangalore   \n",
       "1                        IBM  Data Scientist          95.0  Bangalore   \n",
       "2  Tata Consultancy Services  Data Scientist          66.0  Bangalore   \n",
       "3           Impact Analytics  Data Scientist          40.0  Bangalore   \n",
       "4                  Accenture  Data Scientist          32.0  Bangalore   \n",
       "\n",
       "          salary currency duration        sal  salary_usd  $/yr  \\\n",
       "0   ₹6,48,573/yr        ₹       yr   648573.0        8431     0   \n",
       "1  ₹11,91,950/yr        ₹       yr  1191950.0       15495     0   \n",
       "2   ₹8,36,874/yr        ₹       yr   836874.0       10879     0   \n",
       "3   ₹6,69,578/yr        ₹       yr   669578.0        8704     0   \n",
       "4   ₹9,44,110/yr        ₹       yr   944110.0       12273     0   \n",
       "\n",
       "   salary_usd_yearly  \n",
       "0                  0  \n",
       "1                  0  \n",
       "2                  0  \n",
       "3                  0  \n",
       "4                  0  "
      ]
     },
     "execution_count": 150,
     "metadata": {},
     "output_type": "execute_result"
    }
   ],
   "source": [
    "salary_data['$/yr'] = 0 \n",
    "\n",
    "for key, value in convert_to_year.items():\n",
    "    salary_data['salary_usd_yearly'] =salary_data.apply(lambda row: (row['salary_usd'] * value\n",
    "                                                      if row['duration'] == key \n",
    "                                                      else row['$/yr']*1), axis=1)\n",
    "salary_data.head()"
   ]
  },
  {
   "cell_type": "code",
   "execution_count": 151,
   "id": "0b22f8a1",
   "metadata": {
    "execution": {
     "iopub.execute_input": "2022-02-17T13:03:03.977873Z",
     "iopub.status.busy": "2022-02-17T13:03:03.966011Z",
     "iopub.status.idle": "2022-02-17T13:03:03.982280Z",
     "shell.execute_reply": "2022-02-17T13:03:03.981447Z",
     "shell.execute_reply.started": "2022-02-17T11:52:49.742220Z"
    },
    "papermill": {
     "duration": 0.093895,
     "end_time": "2022-02-17T13:03:03.982471",
     "exception": false,
     "start_time": "2022-02-17T13:03:03.888576",
     "status": "completed"
    },
    "tags": []
   },
   "outputs": [
    {
     "data": {
      "text/html": [
       "<div>\n",
       "<style scoped>\n",
       "    .dataframe tbody tr th:only-of-type {\n",
       "        vertical-align: middle;\n",
       "    }\n",
       "\n",
       "    .dataframe tbody tr th {\n",
       "        vertical-align: top;\n",
       "    }\n",
       "\n",
       "    .dataframe thead th {\n",
       "        text-align: right;\n",
       "    }\n",
       "</style>\n",
       "<table border=\"1\" class=\"dataframe\">\n",
       "  <thead>\n",
       "    <tr style=\"text-align: right;\">\n",
       "      <th></th>\n",
       "      <th>company_name</th>\n",
       "      <th>job_title</th>\n",
       "      <th>sal_reported</th>\n",
       "      <th>location</th>\n",
       "      <th>salary</th>\n",
       "      <th>currency</th>\n",
       "      <th>duration</th>\n",
       "      <th>sal</th>\n",
       "      <th>salary_usd</th>\n",
       "      <th>$/yr</th>\n",
       "      <th>salary_usd_yearly</th>\n",
       "    </tr>\n",
       "  </thead>\n",
       "  <tbody>\n",
       "    <tr>\n",
       "      <th>0</th>\n",
       "      <td>Mu Sigma</td>\n",
       "      <td>Data Scientist</td>\n",
       "      <td>105.0</td>\n",
       "      <td>Bangalore</td>\n",
       "      <td>₹6,48,573/yr</td>\n",
       "      <td>₹</td>\n",
       "      <td>yr</td>\n",
       "      <td>648573.0</td>\n",
       "      <td>8431</td>\n",
       "      <td>0</td>\n",
       "      <td>0</td>\n",
       "    </tr>\n",
       "    <tr>\n",
       "      <th>1</th>\n",
       "      <td>IBM</td>\n",
       "      <td>Data Scientist</td>\n",
       "      <td>95.0</td>\n",
       "      <td>Bangalore</td>\n",
       "      <td>₹11,91,950/yr</td>\n",
       "      <td>₹</td>\n",
       "      <td>yr</td>\n",
       "      <td>1191950.0</td>\n",
       "      <td>15495</td>\n",
       "      <td>0</td>\n",
       "      <td>0</td>\n",
       "    </tr>\n",
       "    <tr>\n",
       "      <th>2</th>\n",
       "      <td>Tata Consultancy Services</td>\n",
       "      <td>Data Scientist</td>\n",
       "      <td>66.0</td>\n",
       "      <td>Bangalore</td>\n",
       "      <td>₹8,36,874/yr</td>\n",
       "      <td>₹</td>\n",
       "      <td>yr</td>\n",
       "      <td>836874.0</td>\n",
       "      <td>10879</td>\n",
       "      <td>0</td>\n",
       "      <td>0</td>\n",
       "    </tr>\n",
       "    <tr>\n",
       "      <th>3</th>\n",
       "      <td>Impact Analytics</td>\n",
       "      <td>Data Scientist</td>\n",
       "      <td>40.0</td>\n",
       "      <td>Bangalore</td>\n",
       "      <td>₹6,69,578/yr</td>\n",
       "      <td>₹</td>\n",
       "      <td>yr</td>\n",
       "      <td>669578.0</td>\n",
       "      <td>8704</td>\n",
       "      <td>0</td>\n",
       "      <td>0</td>\n",
       "    </tr>\n",
       "    <tr>\n",
       "      <th>4</th>\n",
       "      <td>Accenture</td>\n",
       "      <td>Data Scientist</td>\n",
       "      <td>32.0</td>\n",
       "      <td>Bangalore</td>\n",
       "      <td>₹9,44,110/yr</td>\n",
       "      <td>₹</td>\n",
       "      <td>yr</td>\n",
       "      <td>944110.0</td>\n",
       "      <td>12273</td>\n",
       "      <td>0</td>\n",
       "      <td>0</td>\n",
       "    </tr>\n",
       "    <tr>\n",
       "      <th>...</th>\n",
       "      <td>...</td>\n",
       "      <td>...</td>\n",
       "      <td>...</td>\n",
       "      <td>...</td>\n",
       "      <td>...</td>\n",
       "      <td>...</td>\n",
       "      <td>...</td>\n",
       "      <td>...</td>\n",
       "      <td>...</td>\n",
       "      <td>...</td>\n",
       "      <td>...</td>\n",
       "    </tr>\n",
       "    <tr>\n",
       "      <th>4339</th>\n",
       "      <td>TaiyōAI</td>\n",
       "      <td>Machine Learning Scientist</td>\n",
       "      <td>1.0</td>\n",
       "      <td>Mumbai</td>\n",
       "      <td>₹5,180/mo</td>\n",
       "      <td>₹</td>\n",
       "      <td>mo</td>\n",
       "      <td>5180.0</td>\n",
       "      <td>67</td>\n",
       "      <td>0</td>\n",
       "      <td>0</td>\n",
       "    </tr>\n",
       "    <tr>\n",
       "      <th>4340</th>\n",
       "      <td>Decimal Point Analytics</td>\n",
       "      <td>Machine Learning Developer</td>\n",
       "      <td>1.0</td>\n",
       "      <td>Mumbai</td>\n",
       "      <td>₹7,51,286/yr</td>\n",
       "      <td>₹</td>\n",
       "      <td>yr</td>\n",
       "      <td>751286.0</td>\n",
       "      <td>9766</td>\n",
       "      <td>0</td>\n",
       "      <td>0</td>\n",
       "    </tr>\n",
       "    <tr>\n",
       "      <th>4341</th>\n",
       "      <td>MyWays</td>\n",
       "      <td>Machine Learning Developer</td>\n",
       "      <td>1.0</td>\n",
       "      <td>Mumbai</td>\n",
       "      <td>₹4,10,952/yr</td>\n",
       "      <td>₹</td>\n",
       "      <td>yr</td>\n",
       "      <td>410952.0</td>\n",
       "      <td>5342</td>\n",
       "      <td>0</td>\n",
       "      <td>0</td>\n",
       "    </tr>\n",
       "    <tr>\n",
       "      <th>4342</th>\n",
       "      <td>Market Pulse Technologies</td>\n",
       "      <td>Software Engineer - Machine Learning</td>\n",
       "      <td>1.0</td>\n",
       "      <td>Mumbai</td>\n",
       "      <td>₹16,12,324/yr</td>\n",
       "      <td>₹</td>\n",
       "      <td>yr</td>\n",
       "      <td>1612324.0</td>\n",
       "      <td>20960</td>\n",
       "      <td>0</td>\n",
       "      <td>0</td>\n",
       "    </tr>\n",
       "    <tr>\n",
       "      <th>4343</th>\n",
       "      <td>vPhrase</td>\n",
       "      <td>Machine Learning Engineer</td>\n",
       "      <td>1.0</td>\n",
       "      <td>Mumbai</td>\n",
       "      <td>₹9,39,843/yr</td>\n",
       "      <td>₹</td>\n",
       "      <td>yr</td>\n",
       "      <td>939843.0</td>\n",
       "      <td>12217</td>\n",
       "      <td>0</td>\n",
       "      <td>0</td>\n",
       "    </tr>\n",
       "  </tbody>\n",
       "</table>\n",
       "<p>4323 rows × 11 columns</p>\n",
       "</div>"
      ],
      "text/plain": [
       "                   company_name                             job_title  \\\n",
       "0                      Mu Sigma                        Data Scientist   \n",
       "1                           IBM                        Data Scientist   \n",
       "2     Tata Consultancy Services                        Data Scientist   \n",
       "3              Impact Analytics                        Data Scientist   \n",
       "4                     Accenture                        Data Scientist   \n",
       "...                         ...                                   ...   \n",
       "4339                    TaiyōAI            Machine Learning Scientist   \n",
       "4340    Decimal Point Analytics            Machine Learning Developer   \n",
       "4341                     MyWays            Machine Learning Developer   \n",
       "4342  Market Pulse Technologies  Software Engineer - Machine Learning   \n",
       "4343                    vPhrase             Machine Learning Engineer   \n",
       "\n",
       "      sal_reported   location         salary currency duration        sal  \\\n",
       "0            105.0  Bangalore   ₹6,48,573/yr        ₹       yr   648573.0   \n",
       "1             95.0  Bangalore  ₹11,91,950/yr        ₹       yr  1191950.0   \n",
       "2             66.0  Bangalore   ₹8,36,874/yr        ₹       yr   836874.0   \n",
       "3             40.0  Bangalore   ₹6,69,578/yr        ₹       yr   669578.0   \n",
       "4             32.0  Bangalore   ₹9,44,110/yr        ₹       yr   944110.0   \n",
       "...            ...        ...            ...      ...      ...        ...   \n",
       "4339           1.0     Mumbai      ₹5,180/mo        ₹       mo     5180.0   \n",
       "4340           1.0     Mumbai   ₹7,51,286/yr        ₹       yr   751286.0   \n",
       "4341           1.0     Mumbai   ₹4,10,952/yr        ₹       yr   410952.0   \n",
       "4342           1.0     Mumbai  ₹16,12,324/yr        ₹       yr  1612324.0   \n",
       "4343           1.0     Mumbai   ₹9,39,843/yr        ₹       yr   939843.0   \n",
       "\n",
       "      salary_usd  $/yr  salary_usd_yearly  \n",
       "0           8431     0                  0  \n",
       "1          15495     0                  0  \n",
       "2          10879     0                  0  \n",
       "3           8704     0                  0  \n",
       "4          12273     0                  0  \n",
       "...          ...   ...                ...  \n",
       "4339          67     0                  0  \n",
       "4340        9766     0                  0  \n",
       "4341        5342     0                  0  \n",
       "4342       20960     0                  0  \n",
       "4343       12217     0                  0  \n",
       "\n",
       "[4323 rows x 11 columns]"
      ]
     },
     "execution_count": 151,
     "metadata": {},
     "output_type": "execute_result"
    }
   ],
   "source": [
    "salary_data[salary_data['salary_usd_yearly'] == 0]"
   ]
  },
  {
   "cell_type": "markdown",
   "id": "a397aa2b",
   "metadata": {
    "papermill": {
     "duration": 0.072319,
     "end_time": "2022-02-17T13:03:04.129547",
     "exception": false,
     "start_time": "2022-02-17T13:03:04.057228",
     "status": "completed"
    },
    "tags": []
   },
   "source": [
    "#### Check the number of Locations"
   ]
  },
  {
   "cell_type": "code",
   "execution_count": 152,
   "id": "06cc55fe",
   "metadata": {
    "execution": {
     "iopub.execute_input": "2022-02-17T13:03:04.282947Z",
     "iopub.status.busy": "2022-02-17T13:03:04.282213Z",
     "iopub.status.idle": "2022-02-17T13:03:04.291127Z",
     "shell.execute_reply": "2022-02-17T13:03:04.290403Z",
     "shell.execute_reply.started": "2022-02-17T11:55:31.149002Z"
    },
    "papermill": {
     "duration": 0.086875,
     "end_time": "2022-02-17T13:03:04.291286",
     "exception": false,
     "start_time": "2022-02-17T13:03:04.204411",
     "status": "completed"
    },
    "tags": []
   },
   "outputs": [
    {
     "data": {
      "text/plain": [
       "Bangalore    1584\n",
       "Pune          818\n",
       "Hyderabad     669\n",
       "New Delhi     656\n",
       "Mumbai        617\n",
       "Name: location, dtype: int64"
      ]
     },
     "execution_count": 152,
     "metadata": {},
     "output_type": "execute_result"
    }
   ],
   "source": [
    "salary_data['location'].value_counts()"
   ]
  },
  {
   "cell_type": "markdown",
   "id": "a3d07d35",
   "metadata": {
    "papermill": {
     "duration": 0.074383,
     "end_time": "2022-02-17T13:03:04.440146",
     "exception": false,
     "start_time": "2022-02-17T13:03:04.365763",
     "status": "completed"
    },
    "tags": []
   },
   "source": [
    "### Check number of each job title"
   ]
  },
  {
   "cell_type": "code",
   "execution_count": 153,
   "id": "f52b0424",
   "metadata": {
    "execution": {
     "iopub.execute_input": "2022-02-17T13:03:04.599559Z",
     "iopub.status.busy": "2022-02-17T13:03:04.598780Z",
     "iopub.status.idle": "2022-02-17T13:03:04.601977Z",
     "shell.execute_reply": "2022-02-17T13:03:04.602428Z",
     "shell.execute_reply.started": "2022-02-17T11:59:26.012792Z"
    },
    "papermill": {
     "duration": 0.085865,
     "end_time": "2022-02-17T13:03:04.602655",
     "exception": false,
     "start_time": "2022-02-17T13:03:04.516790",
     "status": "completed"
    },
    "tags": []
   },
   "outputs": [
    {
     "data": {
      "text/plain": [
       "Data Scientist                              1844\n",
       "Data Analyst                                 990\n",
       "Data Engineer                                805\n",
       "Machine Learning Engineer                    568\n",
       "Data Science                                  43\n",
       "Senior Data Scientist                         39\n",
       "Junior Data Scientist                         18\n",
       "Senior Machine Learning Engineer               9\n",
       "Lead Data Scientist                            6\n",
       "Machine Learning Scientist                     2\n",
       "Machine Learning Data Associate II             2\n",
       "Machine Learning Developer                     2\n",
       "Software Engineer - Machine Learning           2\n",
       "Machine Learning Consultant                    2\n",
       "Associate Machine Learning Engineer            1\n",
       "Data Scientist - Trainee                       1\n",
       "Machine Learning Associate                     1\n",
       "Machine Learning Data Associate                1\n",
       "Data Science Manager                           1\n",
       "Data Science Associate                         1\n",
       "Machine Learning Data Associate I              1\n",
       "Machine Learning Data Analyst                  1\n",
       "Data Science Lead                              1\n",
       "Machine Learning Engineer/Data Scientist       1\n",
       "Data Science Consultant                        1\n",
       "Machine Learning Software Engineer             1\n",
       "Name: job_title, dtype: int64"
      ]
     },
     "execution_count": 153,
     "metadata": {},
     "output_type": "execute_result"
    }
   ],
   "source": [
    "salary_data['job_title'].value_counts()"
   ]
  },
  {
   "cell_type": "code",
   "execution_count": 154,
   "id": "ac0b8bf1",
   "metadata": {
    "execution": {
     "iopub.execute_input": "2022-02-17T13:03:04.774257Z",
     "iopub.status.busy": "2022-02-17T13:03:04.762426Z",
     "iopub.status.idle": "2022-02-17T13:03:04.777258Z",
     "shell.execute_reply": "2022-02-17T13:03:04.777789Z",
     "shell.execute_reply.started": "2022-02-17T11:59:44.716815Z"
    },
    "papermill": {
     "duration": 0.100765,
     "end_time": "2022-02-17T13:03:04.778032",
     "exception": false,
     "start_time": "2022-02-17T13:03:04.677267",
     "status": "completed"
    },
    "tags": []
   },
   "outputs": [
    {
     "data": {
      "text/html": [
       "<div>\n",
       "<style scoped>\n",
       "    .dataframe tbody tr th:only-of-type {\n",
       "        vertical-align: middle;\n",
       "    }\n",
       "\n",
       "    .dataframe tbody tr th {\n",
       "        vertical-align: top;\n",
       "    }\n",
       "\n",
       "    .dataframe thead th {\n",
       "        text-align: right;\n",
       "    }\n",
       "</style>\n",
       "<table border=\"1\" class=\"dataframe\">\n",
       "  <thead>\n",
       "    <tr style=\"text-align: right;\">\n",
       "      <th></th>\n",
       "      <th>company_name</th>\n",
       "      <th>job_title</th>\n",
       "      <th>sal_reported</th>\n",
       "      <th>location</th>\n",
       "      <th>salary</th>\n",
       "      <th>currency</th>\n",
       "      <th>duration</th>\n",
       "      <th>sal</th>\n",
       "      <th>salary_usd</th>\n",
       "      <th>$/yr</th>\n",
       "      <th>salary_usd_yearly</th>\n",
       "    </tr>\n",
       "  </thead>\n",
       "  <tbody>\n",
       "    <tr>\n",
       "      <th>1253</th>\n",
       "      <td>ZS Associates</td>\n",
       "      <td>Data Science Associate</td>\n",
       "      <td>9.0</td>\n",
       "      <td>Pune</td>\n",
       "      <td>₹12,03,913/yr</td>\n",
       "      <td>₹</td>\n",
       "      <td>yr</td>\n",
       "      <td>1203913.0</td>\n",
       "      <td>15650</td>\n",
       "      <td>0</td>\n",
       "      <td>0</td>\n",
       "    </tr>\n",
       "    <tr>\n",
       "      <th>4115</th>\n",
       "      <td>Amazon</td>\n",
       "      <td>Machine Learning Data Associate</td>\n",
       "      <td>38.0</td>\n",
       "      <td>Hyderabad</td>\n",
       "      <td>₹2,75,841/yr</td>\n",
       "      <td>₹</td>\n",
       "      <td>yr</td>\n",
       "      <td>275841.0</td>\n",
       "      <td>3585</td>\n",
       "      <td>0</td>\n",
       "      <td>0</td>\n",
       "    </tr>\n",
       "    <tr>\n",
       "      <th>4116</th>\n",
       "      <td>Amazon</td>\n",
       "      <td>Machine Learning Data Associate I</td>\n",
       "      <td>9.0</td>\n",
       "      <td>Hyderabad</td>\n",
       "      <td>₹2,58,596/yr</td>\n",
       "      <td>₹</td>\n",
       "      <td>yr</td>\n",
       "      <td>258596.0</td>\n",
       "      <td>3361</td>\n",
       "      <td>0</td>\n",
       "      <td>0</td>\n",
       "    </tr>\n",
       "    <tr>\n",
       "      <th>4117</th>\n",
       "      <td>Amazon</td>\n",
       "      <td>Machine Learning Associate</td>\n",
       "      <td>6.0</td>\n",
       "      <td>Hyderabad</td>\n",
       "      <td>₹2,95,114/yr</td>\n",
       "      <td>₹</td>\n",
       "      <td>yr</td>\n",
       "      <td>295114.0</td>\n",
       "      <td>3836</td>\n",
       "      <td>0</td>\n",
       "      <td>0</td>\n",
       "    </tr>\n",
       "    <tr>\n",
       "      <th>4118</th>\n",
       "      <td>Amazon</td>\n",
       "      <td>Machine Learning Data Associate II</td>\n",
       "      <td>5.0</td>\n",
       "      <td>Hyderabad</td>\n",
       "      <td>₹3,83,213/yr</td>\n",
       "      <td>₹</td>\n",
       "      <td>yr</td>\n",
       "      <td>383213.0</td>\n",
       "      <td>4981</td>\n",
       "      <td>0</td>\n",
       "      <td>0</td>\n",
       "    </tr>\n",
       "    <tr>\n",
       "      <th>4120</th>\n",
       "      <td>Techolution</td>\n",
       "      <td>Associate Machine Learning Engineer</td>\n",
       "      <td>3.0</td>\n",
       "      <td>Hyderabad</td>\n",
       "      <td>₹4,64,372/yr</td>\n",
       "      <td>₹</td>\n",
       "      <td>yr</td>\n",
       "      <td>464372.0</td>\n",
       "      <td>6036</td>\n",
       "      <td>0</td>\n",
       "      <td>0</td>\n",
       "    </tr>\n",
       "    <tr>\n",
       "      <th>4237</th>\n",
       "      <td>Amazon</td>\n",
       "      <td>Machine Learning Data Associate II</td>\n",
       "      <td>NaN</td>\n",
       "      <td>New Delhi</td>\n",
       "      <td>₹3,29,439/yr</td>\n",
       "      <td>₹</td>\n",
       "      <td>yr</td>\n",
       "      <td>329439.0</td>\n",
       "      <td>4282</td>\n",
       "      <td>0</td>\n",
       "      <td>0</td>\n",
       "    </tr>\n",
       "  </tbody>\n",
       "</table>\n",
       "</div>"
      ],
      "text/plain": [
       "       company_name                            job_title  sal_reported  \\\n",
       "1253  ZS Associates               Data Science Associate           9.0   \n",
       "4115         Amazon      Machine Learning Data Associate          38.0   \n",
       "4116         Amazon    Machine Learning Data Associate I           9.0   \n",
       "4117         Amazon           Machine Learning Associate           6.0   \n",
       "4118         Amazon   Machine Learning Data Associate II           5.0   \n",
       "4120    Techolution  Associate Machine Learning Engineer           3.0   \n",
       "4237         Amazon   Machine Learning Data Associate II           NaN   \n",
       "\n",
       "       location         salary currency duration        sal  salary_usd  $/yr  \\\n",
       "1253       Pune  ₹12,03,913/yr        ₹       yr  1203913.0       15650     0   \n",
       "4115  Hyderabad   ₹2,75,841/yr        ₹       yr   275841.0        3585     0   \n",
       "4116  Hyderabad   ₹2,58,596/yr        ₹       yr   258596.0        3361     0   \n",
       "4117  Hyderabad   ₹2,95,114/yr        ₹       yr   295114.0        3836     0   \n",
       "4118  Hyderabad   ₹3,83,213/yr        ₹       yr   383213.0        4981     0   \n",
       "4120  Hyderabad   ₹4,64,372/yr        ₹       yr   464372.0        6036     0   \n",
       "4237  New Delhi   ₹3,29,439/yr        ₹       yr   329439.0        4282     0   \n",
       "\n",
       "      salary_usd_yearly  \n",
       "1253                  0  \n",
       "4115                  0  \n",
       "4116                  0  \n",
       "4117                  0  \n",
       "4118                  0  \n",
       "4120                  0  \n",
       "4237                  0  "
      ]
     },
     "execution_count": 154,
     "metadata": {},
     "output_type": "execute_result"
    }
   ],
   "source": [
    "salary_data[salary_data['job_title'].str.contains('Associate')]"
   ]
  },
  {
   "cell_type": "code",
   "execution_count": 155,
   "id": "15662446",
   "metadata": {
    "scrolled": true
   },
   "outputs": [
    {
     "data": {
      "text/html": [
       "<div>\n",
       "<style scoped>\n",
       "    .dataframe tbody tr th:only-of-type {\n",
       "        vertical-align: middle;\n",
       "    }\n",
       "\n",
       "    .dataframe tbody tr th {\n",
       "        vertical-align: top;\n",
       "    }\n",
       "\n",
       "    .dataframe thead th {\n",
       "        text-align: right;\n",
       "    }\n",
       "</style>\n",
       "<table border=\"1\" class=\"dataframe\">\n",
       "  <thead>\n",
       "    <tr style=\"text-align: right;\">\n",
       "      <th></th>\n",
       "      <th>company_name</th>\n",
       "      <th>job_title</th>\n",
       "      <th>sal_reported</th>\n",
       "      <th>location</th>\n",
       "      <th>salary</th>\n",
       "      <th>currency</th>\n",
       "      <th>duration</th>\n",
       "      <th>sal</th>\n",
       "      <th>salary_usd</th>\n",
       "      <th>$/yr</th>\n",
       "      <th>salary_usd_yearly</th>\n",
       "      <th>level</th>\n",
       "    </tr>\n",
       "  </thead>\n",
       "  <tbody>\n",
       "    <tr>\n",
       "      <th>0</th>\n",
       "      <td>Mu Sigma</td>\n",
       "      <td>Data Scientist</td>\n",
       "      <td>105.0</td>\n",
       "      <td>Bangalore</td>\n",
       "      <td>₹6,48,573/yr</td>\n",
       "      <td>₹</td>\n",
       "      <td>yr</td>\n",
       "      <td>648573.0</td>\n",
       "      <td>8431</td>\n",
       "      <td>0</td>\n",
       "      <td>0</td>\n",
       "      <td>Associate</td>\n",
       "    </tr>\n",
       "    <tr>\n",
       "      <th>1</th>\n",
       "      <td>IBM</td>\n",
       "      <td>Data Scientist</td>\n",
       "      <td>95.0</td>\n",
       "      <td>Bangalore</td>\n",
       "      <td>₹11,91,950/yr</td>\n",
       "      <td>₹</td>\n",
       "      <td>yr</td>\n",
       "      <td>1191950.0</td>\n",
       "      <td>15495</td>\n",
       "      <td>0</td>\n",
       "      <td>0</td>\n",
       "      <td>Associate</td>\n",
       "    </tr>\n",
       "    <tr>\n",
       "      <th>2</th>\n",
       "      <td>Tata Consultancy Services</td>\n",
       "      <td>Data Scientist</td>\n",
       "      <td>66.0</td>\n",
       "      <td>Bangalore</td>\n",
       "      <td>₹8,36,874/yr</td>\n",
       "      <td>₹</td>\n",
       "      <td>yr</td>\n",
       "      <td>836874.0</td>\n",
       "      <td>10879</td>\n",
       "      <td>0</td>\n",
       "      <td>0</td>\n",
       "      <td>Associate</td>\n",
       "    </tr>\n",
       "    <tr>\n",
       "      <th>3</th>\n",
       "      <td>Impact Analytics</td>\n",
       "      <td>Data Scientist</td>\n",
       "      <td>40.0</td>\n",
       "      <td>Bangalore</td>\n",
       "      <td>₹6,69,578/yr</td>\n",
       "      <td>₹</td>\n",
       "      <td>yr</td>\n",
       "      <td>669578.0</td>\n",
       "      <td>8704</td>\n",
       "      <td>0</td>\n",
       "      <td>0</td>\n",
       "      <td>Associate</td>\n",
       "    </tr>\n",
       "    <tr>\n",
       "      <th>4</th>\n",
       "      <td>Accenture</td>\n",
       "      <td>Data Scientist</td>\n",
       "      <td>32.0</td>\n",
       "      <td>Bangalore</td>\n",
       "      <td>₹9,44,110/yr</td>\n",
       "      <td>₹</td>\n",
       "      <td>yr</td>\n",
       "      <td>944110.0</td>\n",
       "      <td>12273</td>\n",
       "      <td>0</td>\n",
       "      <td>0</td>\n",
       "      <td>Associate</td>\n",
       "    </tr>\n",
       "  </tbody>\n",
       "</table>\n",
       "</div>"
      ],
      "text/plain": [
       "                company_name       job_title  sal_reported   location  \\\n",
       "0                   Mu Sigma  Data Scientist         105.0  Bangalore   \n",
       "1                        IBM  Data Scientist          95.0  Bangalore   \n",
       "2  Tata Consultancy Services  Data Scientist          66.0  Bangalore   \n",
       "3           Impact Analytics  Data Scientist          40.0  Bangalore   \n",
       "4                  Accenture  Data Scientist          32.0  Bangalore   \n",
       "\n",
       "          salary currency duration        sal  salary_usd  $/yr  \\\n",
       "0   ₹6,48,573/yr        ₹       yr   648573.0        8431     0   \n",
       "1  ₹11,91,950/yr        ₹       yr  1191950.0       15495     0   \n",
       "2   ₹8,36,874/yr        ₹       yr   836874.0       10879     0   \n",
       "3   ₹6,69,578/yr        ₹       yr   669578.0        8704     0   \n",
       "4   ₹9,44,110/yr        ₹       yr   944110.0       12273     0   \n",
       "\n",
       "   salary_usd_yearly      level  \n",
       "0                  0  Associate  \n",
       "1                  0  Associate  \n",
       "2                  0  Associate  \n",
       "3                  0  Associate  \n",
       "4                  0  Associate  "
      ]
     },
     "execution_count": 155,
     "metadata": {},
     "output_type": "execute_result"
    }
   ],
   "source": [
    "salary_data[\"level\"] = 'Associate'\n",
    "level_list = {'Consultant', 'Manager', 'Senior', 'Junior', 'Trainee'}\n",
    "for x in level_list:\n",
    "    salary_data['level'].loc[salary_data['job_title'].str.contains(x)] = x\n",
    "    \n",
    "salary_data.head()"
   ]
  },
  {
   "cell_type": "code",
   "execution_count": 156,
   "id": "234072c9",
   "metadata": {
    "execution": {
     "iopub.execute_input": "2022-02-17T13:03:05.640264Z",
     "iopub.status.busy": "2022-02-17T13:03:05.639444Z",
     "iopub.status.idle": "2022-02-17T13:03:05.644134Z",
     "shell.execute_reply": "2022-02-17T13:03:05.644677Z",
     "shell.execute_reply.started": "2022-02-17T12:04:20.588449Z"
    },
    "papermill": {
     "duration": 0.085105,
     "end_time": "2022-02-17T13:03:05.644878",
     "exception": false,
     "start_time": "2022-02-17T13:03:05.559773",
     "status": "completed"
    },
    "tags": []
   },
   "outputs": [
    {
     "data": {
      "text/plain": [
       "(4344, 12)"
      ]
     },
     "execution_count": 156,
     "metadata": {},
     "output_type": "execute_result"
    }
   ],
   "source": [
    "salary_data.shape"
   ]
  },
  {
   "cell_type": "markdown",
   "id": "4e2958d1",
   "metadata": {},
   "source": [
    "#### Drop missing number"
   ]
  },
  {
   "cell_type": "code",
   "execution_count": 157,
   "id": "127d5e09",
   "metadata": {
    "execution": {
     "iopub.execute_input": "2022-02-17T13:03:06.519855Z",
     "iopub.status.busy": "2022-02-17T13:03:06.519213Z",
     "iopub.status.idle": "2022-02-17T13:03:06.530904Z",
     "shell.execute_reply": "2022-02-17T13:03:06.531434Z",
     "shell.execute_reply.started": "2022-02-17T12:07:32.954146Z"
    },
    "papermill": {
     "duration": 0.095589,
     "end_time": "2022-02-17T13:03:06.531636",
     "exception": false,
     "start_time": "2022-02-17T13:03:06.436047",
     "status": "completed"
    },
    "tags": []
   },
   "outputs": [
    {
     "data": {
      "text/plain": [
       "(4339, 12)"
      ]
     },
     "execution_count": 157,
     "metadata": {},
     "output_type": "execute_result"
    }
   ],
   "source": [
    "salary_data.dropna(inplace=True)\n",
    "salary_data.shape"
   ]
  },
  {
   "cell_type": "markdown",
   "id": "52a6048a",
   "metadata": {},
   "source": [
    "#### Let's check the top countries"
   ]
  },
  {
   "cell_type": "code",
   "execution_count": 158,
   "id": "fd303341",
   "metadata": {
    "execution": {
     "iopub.execute_input": "2022-02-17T13:03:07.078848Z",
     "iopub.status.busy": "2022-02-17T13:03:07.078172Z",
     "iopub.status.idle": "2022-02-17T13:03:07.083720Z",
     "shell.execute_reply": "2022-02-17T13:03:07.084369Z",
     "shell.execute_reply.started": "2022-02-17T12:11:34.645157Z"
    },
    "papermill": {
     "duration": 0.093574,
     "end_time": "2022-02-17T13:03:07.084576",
     "exception": false,
     "start_time": "2022-02-17T13:03:06.991002",
     "status": "completed"
    },
    "tags": []
   },
   "outputs": [
    {
     "data": {
      "text/plain": [
       "Tata Consultancy Services         41\n",
       "Amazon                            31\n",
       "Accenture                         30\n",
       "Google                            27\n",
       "Fresher                           26\n",
       "IBM                               26\n",
       "First Student                     25\n",
       "Infosys                           23\n",
       "Cognizant Technology Solutions    21\n",
       "DONE by NONE                      21\n",
       "ABC                               20\n",
       "Wipro                             17\n",
       "Capgemini                         17\n",
       "Microsoft                         17\n",
       "Deloitte                          16\n",
       "LTI                               16\n",
       "Tech Mahindra                     16\n",
       "Nones                             15\n",
       "HCL Technologies                  14\n",
       "Quantiphi                         14\n",
       "Name: company_name, dtype: int64"
      ]
     },
     "execution_count": 158,
     "metadata": {},
     "output_type": "execute_result"
    }
   ],
   "source": [
    "salary_data['company_name'].value_counts().head(20)"
   ]
  },
  {
   "cell_type": "code",
   "execution_count": 159,
   "id": "a3e41e6a",
   "metadata": {
    "execution": {
     "iopub.execute_input": "2022-02-17T13:03:07.252456Z",
     "iopub.status.busy": "2022-02-17T13:03:07.251774Z",
     "iopub.status.idle": "2022-02-17T13:03:07.258264Z",
     "shell.execute_reply": "2022-02-17T13:03:07.258702Z",
     "shell.execute_reply.started": "2022-02-17T12:11:46.373896Z"
    },
    "papermill": {
     "duration": 0.093624,
     "end_time": "2022-02-17T13:03:07.258913",
     "exception": false,
     "start_time": "2022-02-17T13:03:07.165289",
     "status": "completed"
    },
    "tags": []
   },
   "outputs": [
    {
     "data": {
      "text/plain": [
       "Tata Consultancy Services               41\n",
       "Amazon                                  31\n",
       "Accenture                               30\n",
       "Google                                  27\n",
       "Fresher                                 26\n",
       "                                        ..\n",
       "SRI International                        1\n",
       "ROHIT KUMAR MODI                         1\n",
       "IDC (International Data Corporation)     1\n",
       "myPaisaa                                 1\n",
       "Knowledge Lens                           1\n",
       "Name: company_name, Length: 2528, dtype: int64"
      ]
     },
     "execution_count": 159,
     "metadata": {},
     "output_type": "execute_result"
    }
   ],
   "source": [
    "salary_data['company_name'].value_counts()"
   ]
  },
  {
   "cell_type": "markdown",
   "id": "65831e0f",
   "metadata": {},
   "source": [
    "#### Let us Extract some companies "
   ]
  },
  {
   "cell_type": "code",
   "execution_count": 160,
   "id": "af18833b",
   "metadata": {},
   "outputs": [
    {
     "data": {
      "text/html": [
       "<div>\n",
       "<style scoped>\n",
       "    .dataframe tbody tr th:only-of-type {\n",
       "        vertical-align: middle;\n",
       "    }\n",
       "\n",
       "    .dataframe tbody tr th {\n",
       "        vertical-align: top;\n",
       "    }\n",
       "\n",
       "    .dataframe thead th {\n",
       "        text-align: right;\n",
       "    }\n",
       "</style>\n",
       "<table border=\"1\" class=\"dataframe\">\n",
       "  <thead>\n",
       "    <tr style=\"text-align: right;\">\n",
       "      <th></th>\n",
       "      <th>company_name</th>\n",
       "      <th>job_title</th>\n",
       "      <th>sal_reported</th>\n",
       "      <th>location</th>\n",
       "      <th>salary</th>\n",
       "      <th>currency</th>\n",
       "      <th>duration</th>\n",
       "      <th>sal</th>\n",
       "      <th>salary_usd</th>\n",
       "      <th>$/yr</th>\n",
       "      <th>salary_usd_yearly</th>\n",
       "      <th>level</th>\n",
       "    </tr>\n",
       "  </thead>\n",
       "  <tbody>\n",
       "    <tr>\n",
       "      <th>0</th>\n",
       "      <td>Mu Sigma</td>\n",
       "      <td>Data Scientist</td>\n",
       "      <td>105.0</td>\n",
       "      <td>Bangalore</td>\n",
       "      <td>₹6,48,573/yr</td>\n",
       "      <td>₹</td>\n",
       "      <td>yr</td>\n",
       "      <td>648573.0</td>\n",
       "      <td>8431</td>\n",
       "      <td>0</td>\n",
       "      <td>0</td>\n",
       "      <td>Associate</td>\n",
       "    </tr>\n",
       "    <tr>\n",
       "      <th>1</th>\n",
       "      <td>IBM</td>\n",
       "      <td>Data Scientist</td>\n",
       "      <td>95.0</td>\n",
       "      <td>Bangalore</td>\n",
       "      <td>₹11,91,950/yr</td>\n",
       "      <td>₹</td>\n",
       "      <td>yr</td>\n",
       "      <td>1191950.0</td>\n",
       "      <td>15495</td>\n",
       "      <td>0</td>\n",
       "      <td>0</td>\n",
       "      <td>Associate</td>\n",
       "    </tr>\n",
       "    <tr>\n",
       "      <th>2</th>\n",
       "      <td>Tata Consultancy Services</td>\n",
       "      <td>Data Scientist</td>\n",
       "      <td>66.0</td>\n",
       "      <td>Bangalore</td>\n",
       "      <td>₹8,36,874/yr</td>\n",
       "      <td>₹</td>\n",
       "      <td>yr</td>\n",
       "      <td>836874.0</td>\n",
       "      <td>10879</td>\n",
       "      <td>0</td>\n",
       "      <td>0</td>\n",
       "      <td>Associate</td>\n",
       "    </tr>\n",
       "    <tr>\n",
       "      <th>3</th>\n",
       "      <td>Impact Analytics</td>\n",
       "      <td>Data Scientist</td>\n",
       "      <td>40.0</td>\n",
       "      <td>Bangalore</td>\n",
       "      <td>₹6,69,578/yr</td>\n",
       "      <td>₹</td>\n",
       "      <td>yr</td>\n",
       "      <td>669578.0</td>\n",
       "      <td>8704</td>\n",
       "      <td>0</td>\n",
       "      <td>0</td>\n",
       "      <td>Associate</td>\n",
       "    </tr>\n",
       "    <tr>\n",
       "      <th>4</th>\n",
       "      <td>Accenture</td>\n",
       "      <td>Data Scientist</td>\n",
       "      <td>32.0</td>\n",
       "      <td>Bangalore</td>\n",
       "      <td>₹9,44,110/yr</td>\n",
       "      <td>₹</td>\n",
       "      <td>yr</td>\n",
       "      <td>944110.0</td>\n",
       "      <td>12273</td>\n",
       "      <td>0</td>\n",
       "      <td>0</td>\n",
       "      <td>Associate</td>\n",
       "    </tr>\n",
       "    <tr>\n",
       "      <th>...</th>\n",
       "      <td>...</td>\n",
       "      <td>...</td>\n",
       "      <td>...</td>\n",
       "      <td>...</td>\n",
       "      <td>...</td>\n",
       "      <td>...</td>\n",
       "      <td>...</td>\n",
       "      <td>...</td>\n",
       "      <td>...</td>\n",
       "      <td>...</td>\n",
       "      <td>...</td>\n",
       "      <td>...</td>\n",
       "    </tr>\n",
       "    <tr>\n",
       "      <th>4339</th>\n",
       "      <td>TaiyōAI</td>\n",
       "      <td>Machine Learning Scientist</td>\n",
       "      <td>1.0</td>\n",
       "      <td>Mumbai</td>\n",
       "      <td>₹5,180/mo</td>\n",
       "      <td>₹</td>\n",
       "      <td>mo</td>\n",
       "      <td>5180.0</td>\n",
       "      <td>67</td>\n",
       "      <td>0</td>\n",
       "      <td>0</td>\n",
       "      <td>Associate</td>\n",
       "    </tr>\n",
       "    <tr>\n",
       "      <th>4340</th>\n",
       "      <td>Decimal Point Analytics</td>\n",
       "      <td>Machine Learning Developer</td>\n",
       "      <td>1.0</td>\n",
       "      <td>Mumbai</td>\n",
       "      <td>₹7,51,286/yr</td>\n",
       "      <td>₹</td>\n",
       "      <td>yr</td>\n",
       "      <td>751286.0</td>\n",
       "      <td>9766</td>\n",
       "      <td>0</td>\n",
       "      <td>0</td>\n",
       "      <td>Associate</td>\n",
       "    </tr>\n",
       "    <tr>\n",
       "      <th>4341</th>\n",
       "      <td>MyWays</td>\n",
       "      <td>Machine Learning Developer</td>\n",
       "      <td>1.0</td>\n",
       "      <td>Mumbai</td>\n",
       "      <td>₹4,10,952/yr</td>\n",
       "      <td>₹</td>\n",
       "      <td>yr</td>\n",
       "      <td>410952.0</td>\n",
       "      <td>5342</td>\n",
       "      <td>0</td>\n",
       "      <td>0</td>\n",
       "      <td>Associate</td>\n",
       "    </tr>\n",
       "    <tr>\n",
       "      <th>4342</th>\n",
       "      <td>Market Pulse Technologies</td>\n",
       "      <td>Software Engineer - Machine Learning</td>\n",
       "      <td>1.0</td>\n",
       "      <td>Mumbai</td>\n",
       "      <td>₹16,12,324/yr</td>\n",
       "      <td>₹</td>\n",
       "      <td>yr</td>\n",
       "      <td>1612324.0</td>\n",
       "      <td>20960</td>\n",
       "      <td>0</td>\n",
       "      <td>0</td>\n",
       "      <td>Associate</td>\n",
       "    </tr>\n",
       "    <tr>\n",
       "      <th>4343</th>\n",
       "      <td>vPhrase</td>\n",
       "      <td>Machine Learning Engineer</td>\n",
       "      <td>1.0</td>\n",
       "      <td>Mumbai</td>\n",
       "      <td>₹9,39,843/yr</td>\n",
       "      <td>₹</td>\n",
       "      <td>yr</td>\n",
       "      <td>939843.0</td>\n",
       "      <td>12217</td>\n",
       "      <td>0</td>\n",
       "      <td>0</td>\n",
       "      <td>Associate</td>\n",
       "    </tr>\n",
       "  </tbody>\n",
       "</table>\n",
       "<p>4338 rows × 12 columns</p>\n",
       "</div>"
      ],
      "text/plain": [
       "                   company_name                             job_title  \\\n",
       "0                      Mu Sigma                        Data Scientist   \n",
       "1                           IBM                        Data Scientist   \n",
       "2     Tata Consultancy Services                        Data Scientist   \n",
       "3              Impact Analytics                        Data Scientist   \n",
       "4                     Accenture                        Data Scientist   \n",
       "...                         ...                                   ...   \n",
       "4339                    TaiyōAI            Machine Learning Scientist   \n",
       "4340    Decimal Point Analytics            Machine Learning Developer   \n",
       "4341                     MyWays            Machine Learning Developer   \n",
       "4342  Market Pulse Technologies  Software Engineer - Machine Learning   \n",
       "4343                    vPhrase             Machine Learning Engineer   \n",
       "\n",
       "      sal_reported   location         salary currency duration        sal  \\\n",
       "0            105.0  Bangalore   ₹6,48,573/yr        ₹       yr   648573.0   \n",
       "1             95.0  Bangalore  ₹11,91,950/yr        ₹       yr  1191950.0   \n",
       "2             66.0  Bangalore   ₹8,36,874/yr        ₹       yr   836874.0   \n",
       "3             40.0  Bangalore   ₹6,69,578/yr        ₹       yr   669578.0   \n",
       "4             32.0  Bangalore   ₹9,44,110/yr        ₹       yr   944110.0   \n",
       "...            ...        ...            ...      ...      ...        ...   \n",
       "4339           1.0     Mumbai      ₹5,180/mo        ₹       mo     5180.0   \n",
       "4340           1.0     Mumbai   ₹7,51,286/yr        ₹       yr   751286.0   \n",
       "4341           1.0     Mumbai   ₹4,10,952/yr        ₹       yr   410952.0   \n",
       "4342           1.0     Mumbai  ₹16,12,324/yr        ₹       yr  1612324.0   \n",
       "4343           1.0     Mumbai   ₹9,39,843/yr        ₹       yr   939843.0   \n",
       "\n",
       "      salary_usd  $/yr  salary_usd_yearly      level  \n",
       "0           8431     0                  0  Associate  \n",
       "1          15495     0                  0  Associate  \n",
       "2          10879     0                  0  Associate  \n",
       "3           8704     0                  0  Associate  \n",
       "4          12273     0                  0  Associate  \n",
       "...          ...   ...                ...        ...  \n",
       "4339          67     0                  0  Associate  \n",
       "4340        9766     0                  0  Associate  \n",
       "4341        5342     0                  0  Associate  \n",
       "4342       20960     0                  0  Associate  \n",
       "4343       12217     0                  0  Associate  \n",
       "\n",
       "[4338 rows x 12 columns]"
      ]
     },
     "execution_count": 160,
     "metadata": {},
     "output_type": "execute_result"
    }
   ],
   "source": [
    "df_companies = salary_data[~salary_data.company_name.str.contains('Unknown')]\n",
    "df_companies"
   ]
  },
  {
   "cell_type": "markdown",
   "id": "19fcb079",
   "metadata": {
    "papermill": {
     "duration": 0.0813,
     "end_time": "2022-02-17T13:03:07.620024",
     "exception": false,
     "start_time": "2022-02-17T13:03:07.538724",
     "status": "completed"
    },
    "tags": []
   },
   "source": [
    "# Let us Visualize some of our dataset"
   ]
  },
  {
   "cell_type": "code",
   "execution_count": 161,
   "id": "0ac59683",
   "metadata": {
    "execution": {
     "iopub.execute_input": "2022-02-17T13:03:08.493326Z",
     "iopub.status.busy": "2022-02-17T13:03:08.492274Z",
     "iopub.status.idle": "2022-02-17T13:03:08.500000Z",
     "shell.execute_reply": "2022-02-17T13:03:08.500522Z",
     "shell.execute_reply.started": "2022-02-17T12:14:41.789031Z"
    },
    "papermill": {
     "duration": 0.099278,
     "end_time": "2022-02-17T13:03:08.500736",
     "exception": false,
     "start_time": "2022-02-17T13:03:08.401458",
     "status": "completed"
    },
    "tags": []
   },
   "outputs": [
    {
     "data": {
      "text/plain": [
       "company_name\n",
       "& Other Stories     9389\n",
       "---                  130\n",
       "159 Solutions      10774\n",
       "1mg                12888\n",
       "20K Group            838\n",
       "                   ...  \n",
       "vPhrase            30888\n",
       "vitrana            13000\n",
       "wayForward         10987\n",
       "yellow.ai          15268\n",
       "Águas Guariroba      722\n",
       "Name: salary_usd, Length: 2527, dtype: int64"
      ]
     },
     "execution_count": 161,
     "metadata": {},
     "output_type": "execute_result"
    }
   ],
   "source": [
    "df_companies.groupby(['company_name'])['salary_usd'].sum()"
   ]
  },
  {
   "cell_type": "code",
   "execution_count": 162,
   "id": "274c0e55",
   "metadata": {
    "execution": {
     "iopub.execute_input": "2022-02-17T13:03:09.241389Z",
     "iopub.status.busy": "2022-02-17T13:03:09.240385Z",
     "iopub.status.idle": "2022-02-17T13:03:09.244080Z",
     "shell.execute_reply": "2022-02-17T13:03:09.244584Z",
     "shell.execute_reply.started": "2022-02-17T12:39:15.706960Z"
    },
    "papermill": {
     "duration": 0.101678,
     "end_time": "2022-02-17T13:03:09.244789",
     "exception": false,
     "start_time": "2022-02-17T13:03:09.143111",
     "status": "completed"
    },
    "tags": []
   },
   "outputs": [
    {
     "data": {
      "text/plain": [
       "Associate     4267\n",
       "Senior          48\n",
       "Junior          18\n",
       "Consultant       3\n",
       "Trainee          1\n",
       "Manager          1\n",
       "Name: level, dtype: int64"
      ]
     },
     "execution_count": 162,
     "metadata": {},
     "output_type": "execute_result"
    }
   ],
   "source": [
    "df_companies['level'].value_counts()"
   ]
  },
  {
   "cell_type": "markdown",
   "id": "3086a530",
   "metadata": {},
   "source": [
    "#### Let us see Job Frequency in Different Locations"
   ]
  },
  {
   "cell_type": "code",
   "execution_count": 163,
   "id": "e8670535",
   "metadata": {
    "execution": {
     "iopub.execute_input": "2022-02-17T13:03:09.426181Z",
     "iopub.status.busy": "2022-02-17T13:03:09.425112Z",
     "iopub.status.idle": "2022-02-17T13:03:09.724018Z",
     "shell.execute_reply": "2022-02-17T13:03:09.723284Z",
     "shell.execute_reply.started": "2022-02-17T12:20:00.488929Z"
    },
    "papermill": {
     "duration": 0.391685,
     "end_time": "2022-02-17T13:03:09.724197",
     "exception": false,
     "start_time": "2022-02-17T13:03:09.332512",
     "status": "completed"
    },
    "tags": []
   },
   "outputs": [
    {
     "data": {
      "text/plain": [
       "Text(0, 0.5, 'Numbers')"
      ]
     },
     "execution_count": 163,
     "metadata": {},
     "output_type": "execute_result"
    },
    {
     "data": {
      "image/png": "[encoded data removed]",
      "text/plain": [
       "<Figure size 1080x720 with 1 Axes>"
      ]
     },
     "metadata": {},
     "output_type": "display_data"
    }
   ],
   "source": [
    "sns.set_style('whitegrid')\n",
    "plt.subplots(figsize=(15,10))\n",
    "sns.countplot(x=\"location\", data=salary_data)\n",
    "plt.xticks(rotation=35, fontsize=16)\n",
    "plt.yticks(rotation=0, fontsize=16)\n",
    "plt.title(\"Jobs Frequency in Different Locations\", fontsize = 24)\n",
    "plt.xlabel(\"City Names\", fontsize = 18)\n",
    "plt.ylabel(\"Numbers\", fontsize = 18)"
   ]
  },
  {
   "cell_type": "code",
   "execution_count": 164,
   "id": "c03deb64",
   "metadata": {
    "execution": {
     "iopub.execute_input": "2022-02-17T13:03:09.915621Z",
     "iopub.status.busy": "2022-02-17T13:03:09.914825Z",
     "iopub.status.idle": "2022-02-17T13:03:10.476607Z",
     "shell.execute_reply": "2022-02-17T13:03:10.477180Z",
     "shell.execute_reply.started": "2022-02-17T12:25:55.950851Z"
    },
    "papermill": {
     "duration": 0.662823,
     "end_time": "2022-02-17T13:03:10.477388",
     "exception": false,
     "start_time": "2022-02-17T13:03:09.814565",
     "status": "completed"
    },
    "tags": []
   },
   "outputs": [
    {
     "data": {
      "text/plain": [
       "Text(0, 0.5, 'Frequecy')"
      ]
     },
     "execution_count": 164,
     "metadata": {},
     "output_type": "execute_result"
    },
    {
     "data": {
      "image/png": "[encoded data removed]",
      "text/plain": [
       "<Figure size 1080x576 with 1 Axes>"
      ]
     },
     "metadata": {},
     "output_type": "display_data"
    }
   ],
   "source": [
    "sns.set_style('whitegrid')\n",
    "plt.subplots(figsize=(15,8))\n",
    "\n",
    "sns.countplot(x=\"job_title\", data=salary_data)\n",
    "plt.xticks(rotation=90, fontsize=14)\n",
    "plt.yticks(rotation=0, fontsize=14)\n",
    "plt.title(\"Frequencies of Jobs\", fontsize = 24)\n",
    "plt.xlabel(\"Jobs Title\", fontsize = 18)\n",
    "plt.ylabel(\"Frequecy\", fontsize = 18)"
   ]
  },
  {
   "cell_type": "markdown",
   "id": "38a9b315",
   "metadata": {},
   "source": [
    "### Job Category "
   ]
  },
  {
   "cell_type": "code",
   "execution_count": 165,
   "id": "27bb2b6b",
   "metadata": {
    "execution": {
     "iopub.execute_input": "2022-02-17T13:03:10.670462Z",
     "iopub.status.busy": "2022-02-17T13:03:10.669771Z",
     "iopub.status.idle": "2022-02-17T13:03:11.139467Z",
     "shell.execute_reply": "2022-02-17T13:03:11.138906Z",
     "shell.execute_reply.started": "2022-02-17T12:25:30.417142Z"
    },
    "papermill": {
     "duration": 0.566817,
     "end_time": "2022-02-17T13:03:11.139622",
     "exception": false,
     "start_time": "2022-02-17T13:03:10.572805",
     "status": "completed"
    },
    "tags": []
   },
   "outputs": [
    {
     "data": {
      "text/plain": [
       "Text(0, 0.5, 'Frequency')"
      ]
     },
     "execution_count": 165,
     "metadata": {},
     "output_type": "execute_result"
    },
    {
     "data": {
      "image/png": "[encoded data removed]",
      "text/plain": [
       "<Figure size 1080x720 with 1 Axes>"
      ]
     },
     "metadata": {},
     "output_type": "display_data"
    }
   ],
   "source": [
    "sns.set_style('whitegrid')\n",
    "plt.subplots(figsize=(15,10))\n",
    "sns.countplot(x=\"level\", data=salary_data, hue=\"location\")\n",
    "plt.title(\"Number of Job Category in Different Location\", fontsize = 24)\n",
    "plt.xticks(rotation=45, fontsize=16)\n",
    "plt.xlabel(\"Job Categories\", fontsize = 18)\n",
    "plt.ylabel(\"Frequency\", fontsize = 18)"
   ]
  },
  {
   "cell_type": "markdown",
   "id": "a8fdbdbd",
   "metadata": {},
   "source": [
    "### Average Salary by Job Level"
   ]
  },
  {
   "cell_type": "code",
   "execution_count": 166,
   "id": "59b04849",
   "metadata": {
    "execution": {
     "iopub.execute_input": "2022-02-17T13:03:12.416679Z",
     "iopub.status.busy": "2022-02-17T13:03:12.415987Z",
     "iopub.status.idle": "2022-02-17T13:03:12.740014Z",
     "shell.execute_reply": "2022-02-17T13:03:12.740568Z",
     "shell.execute_reply.started": "2022-02-17T12:31:43.235809Z"
    },
    "papermill": {
     "duration": 0.429976,
     "end_time": "2022-02-17T13:03:12.740777",
     "exception": false,
     "start_time": "2022-02-17T13:03:12.310801",
     "status": "completed"
    },
    "tags": []
   },
   "outputs": [
    {
     "data": {
      "text/plain": [
       "Text(0, 0.5, 'Salary')"
      ]
     },
     "execution_count": 166,
     "metadata": {},
     "output_type": "execute_result"
    },
    {
     "data": {
      "image/png": "[encoded data removed]",
      "text/plain": [
       "<Figure size 1080x576 with 1 Axes>"
      ]
     },
     "metadata": {},
     "output_type": "display_data"
    }
   ],
   "source": [
    "sns.set_style('whitegrid')\n",
    "plt.subplots(figsize=(15,8))\n",
    "ax = sns.barplot(x=\"level\", y=\"salary_usd\", data=salary_data, ci=None)\n",
    "\n",
    "\n",
    "plt.xticks(rotation=35, fontsize=16)\n",
    "plt.yticks(rotation=0, fontsize=16)\n",
    "plt.title(\"Average USD Salary of Job Level\", fontsize = 24)\n",
    "plt.xlabel(\"Level\", fontsize = 18)\n",
    "plt.ylabel(\"Salary\", fontsize = 18)"
   ]
  },
  {
   "cell_type": "markdown",
   "id": "ecee1854",
   "metadata": {},
   "source": [
    "# Conclusion"
   ]
  },
  {
   "cell_type": "markdown",
   "id": "a6477e22",
   "metadata": {},
   "source": [
    "The conclusion from our exploratory of data professional jobs in India \n",
    "\n",
    "1. Bangalore have highest number of jobs while mumbai have the lowest\n",
    "2. Data scientist is most title of jobs in this exploratory followed by data analyst and data engineer\n",
    "3. Bangalore has the highest number of categories i.e Associate\n",
    "4. Manager earn much money in the level of the job in all locations "
   ]
  }
 ],
 "metadata": {
  "kernelspec": {
   "display_name": "Python 3",
   "language": "python",
   "name": "python3"
  },
  "language_info": {
   "codemirror_mode": {
    "name": "ipython",
    "version": 3
   },
   "file_extension": ".py",
   "mimetype": "text/x-python",
   "name": "python",
   "nbconvert_exporter": "python",
   "pygments_lexer": "ipython3",
   "version": "3.8.8"
  },
  "papermill": {
   "default_parameters": {},
   "duration": 31.046137,
   "end_time": "2022-02-17T13:03:17.296208",
   "environment_variables": {},
   "exception": null,
   "input_path": "__notebook__.ipynb",
   "output_path": "__notebook__.ipynb",
   "parameters": {},
   "start_time": "2022-02-17T13:02:46.250071",
   "version": "2.3.3"
  }
 },
 "nbformat": 4,
 "nbformat_minor": 5
}
